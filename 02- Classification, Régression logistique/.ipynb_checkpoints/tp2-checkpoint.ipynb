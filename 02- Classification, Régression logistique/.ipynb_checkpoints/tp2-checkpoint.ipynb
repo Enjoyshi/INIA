{
 "cells": [
  {
   "cell_type": "markdown",
   "metadata": {},
   "source": [
    "# <center> TP 2: Multiple Regression, Regularised Regression and Logistic Regression<br> <small>Réda DEHAK<br> 20 Mai 2019</small> </center>\n",
    "\n",
    "The goal of this lab is :\n",
    "    - Fit generalised linear models with ridge or Lasso regularisations\n",
    "    - Test the logistic regression on classification problems\n",
    "    - Send your final notebook by email at inia02@dehak.org before next monday\n"
   ]
  },
  {
   "cell_type": "markdown",
   "metadata": {},
   "source": [
    "## Part 1: Regularised Regression \n",
    "### Import Data\n",
    "\n",
    "The following dataset is from Hastie, Tibshirani and Friedman (2009), from a study by Stamey et al. (1989) of prostate cancer, measuring the correlation between the level of a prostate-specific antigen and some covariates. The covariates are\n",
    "- lcavol : log-cancer volume\n",
    "-  lweight : log-prostate weight\n",
    "-  age : age of patient\n",
    "-  lbhp : log-amount of benign hyperplasia\n",
    "-  svi : seminal vesicle invasion\n",
    "-  lcp : log-capsular penetration\n",
    "-  gleason : Gleason Score,\n",
    "-  lpsa is the response variable, log-psa."
   ]
  },
  {
   "cell_type": "code",
   "execution_count": 74,
   "metadata": {},
   "outputs": [
    {
     "name": "stdout",
     "output_type": "stream",
     "text": [
      "Using matplotlib backend: Qt5Agg\n",
      "Populating the interactive namespace from numpy and matplotlib\n"
     ]
    },
    {
     "name": "stderr",
     "output_type": "stream",
     "text": [
      "/usr/lib/python3.7/site-packages/IPython/core/magics/pylab.py:160: UserWarning: pylab import has clobbered these variables: ['e', 'gradient']\n",
      "`%matplotlib` prevents importing * from pylab and numpy\n",
      "  \"\\n`%matplotlib` prevents importing * from pylab and numpy\"\n"
     ]
    }
   ],
   "source": [
    "%pylab\n",
    "%matplotlib inline\n",
    "import pickle\n",
    "import matplotlib.pyplot as plt\n",
    "import numpy as np\n",
    "from sklearn import linear_model"
   ]
  },
  {
   "cell_type": "code",
   "execution_count": 75,
   "metadata": {},
   "outputs": [
    {
     "name": "stdout",
     "output_type": "stream",
     "text": [
      "Train data :  (7, 60)   (60,)\n",
      "Test data :  (7, 37)   (37,)\n"
     ]
    }
   ],
   "source": [
    "fin = open('data2.pkl', 'rb')\n",
    "xtrain = pickle.load(fin)\n",
    "ytrain = pickle.load(fin)\n",
    "Xtest = pickle.load(fin)\n",
    "Ytest = pickle.load(fin)\n",
    "fin.close()\n",
    "\n",
    "print('Train data : ', xtrain.shape, ' ', ytrain.shape)\n",
    "print('Test data : ', Xtest.shape, ' ', Ytest.shape)"
   ]
  },
  {
   "cell_type": "markdown",
   "metadata": {},
   "source": [
    "### Linear Regression\n",
    "\n",
    "Using the program of TP 1, compute the linear regression weight $w$\n",
    "\n",
    "$$y = g(x) = W^T x =\\sum_{d=0}^7 w_d x_d$$\n",
    "with $x_0 = 1$\n",
    "\n",
    "The linear regression consists in finding the parameters $W$ which minimizes the \n",
    "quadratic error:\n",
    "$$E(W) = \\frac{1}{60}\\sum_{i=1}^{60}\\left(g(x_i) - y_i\\right)^2$$\n",
    "\n",
    "The vector $W$ which minimize $E(W)$ is defined as follow:\n",
    "$$W = (X X^T)^{-1}X Y$$\n",
    "\n",
    "Compute the vector $W$ wich minimize $E(W)$ :\n",
    "- Compute $w$ using the exact solution\n",
    "- Compute the error on test data"
   ]
  },
  {
   "cell_type": "code",
   "execution_count": 76,
   "metadata": {},
   "outputs": [
    {
     "name": "stdout",
     "output_type": "stream",
     "text": [
      "[[ 0.40461954]\n",
      " [ 0.52246673]\n",
      " [-0.02499738]\n",
      " [ 0.16200821]\n",
      " [-0.74830121]\n",
      " [-0.08828183]\n",
      " [ 0.38558413]\n",
      " [-1.37427705]]\n",
      "0.911244186093795\n"
     ]
    }
   ],
   "source": [
    "X = np.vstack((xtrain, np.ones(xtrain.shape[1])))\n",
    "Y = ytrain.reshape((ytrain.shape[0], 1))\n",
    "W = np.linalg.inv(X @ X.T) @ X @ Y\n",
    "print(W)\n",
    "\n",
    "E = np.mean((W[:-1].T @ Xtest - Ytest) ** 2)\n",
    "print(E)"
   ]
  },
  {
   "cell_type": "markdown",
   "metadata": {},
   "source": [
    "- Check that you obtain the same $W$ with sklean.linear_model.LinearRegression?"
   ]
  },
  {
   "cell_type": "code",
   "execution_count": 77,
   "metadata": {},
   "outputs": [
    {
     "name": "stdout",
     "output_type": "stream",
     "text": [
      "[ 0.40461954  0.52246673 -0.02499738  0.16200821 -0.74830121 -0.08828183\n",
      "  0.38558413]\n"
     ]
    }
   ],
   "source": [
    "from sklearn.linear_model import LinearRegression\n",
    "check = LinearRegression().fit(xtrain.T, ytrain)\n",
    "print(check.coef_)"
   ]
  },
  {
   "cell_type": "markdown",
   "metadata": {},
   "source": [
    "### Ridge regression\n",
    "\n",
    "The ridge regression consists in finding the parameters $W$ which minimizes:\n",
    "$$\\frac{1}{60}\\sum_{i=1}^{60}\\left(W^T x_i - y_i\\right)^2 + \\alpha \\|W\\|_2^2$$ \n",
    "\n",
    "- Using linear_model.Ridge and $\\alpha = 0.$, check that you obtain the same $W$ as linear regression"
   ]
  },
  {
   "cell_type": "code",
   "execution_count": 78,
   "metadata": {},
   "outputs": [
    {
     "name": "stdout",
     "output_type": "stream",
     "text": [
      "[ 0.40461954  0.52246673 -0.02499738  0.16200821 -0.74830121 -0.08828183\n",
      "  0.38558413]\n"
     ]
    }
   ],
   "source": [
    "from sklearn.linear_model import Ridge\n",
    "ridreg = Ridge(alpha=0).fit(xtrain.T, ytrain)\n",
    "print(ridreg.coef_)"
   ]
  },
  {
   "cell_type": "markdown",
   "metadata": {},
   "source": [
    "In this part, we will check the influence of $\\alpha$ on the solution of the linear regression\n",
    "\n",
    "- Train a ridge regression with different values of $\\alpha$ = np.logspace(-5, 5, 200), save the values of W, Mean squared errors on train and test data."
   ]
  },
  {
   "cell_type": "code",
   "execution_count": 79,
   "metadata": {},
   "outputs": [],
   "source": [
    "alphas = np.logspace(-5, 5, 200)\n",
    "e=[]\n",
    "w=[]\n",
    "for a in alphas:\n",
    "    ridreg = Ridge(alpha=a).fit(xtrain.T, ytrain)\n",
    "    etrain = np.mean((ridreg.predict(xtrain.T) - ytrain) ** 2)\n",
    "    etest = np.mean((ridreg.predict(Xtest.T) - Ytest) ** 2)\n",
    "    e.append(np.array([etrain, etest]))\n",
    "    w.append(ridreg.coef_)\n",
    "\n",
    "e=np.array(e).T\n",
    "w=np.array(w).T"
   ]
  },
  {
   "cell_type": "markdown",
   "metadata": {},
   "source": [
    "- Plot how evolve each $W_i$ through the sequence of $\\alpha$ values."
   ]
  },
  {
   "cell_type": "code",
   "execution_count": 80,
   "metadata": {},
   "outputs": [
    {
     "data": {
      "image/png": "[encoded data removed]",
      "text/plain": [
       "<Figure size 432x288 with 1 Axes>"
      ]
     },
     "metadata": {
      "needs_background": "light"
     },
     "output_type": "display_data"
    }
   ],
   "source": [
    "for i in range(7):\n",
    "    plt.semilogx(alphas, w[i, :])\n",
    "\n",
    "plt.show()"
   ]
  },
  {
   "cell_type": "markdown",
   "metadata": {},
   "source": [
    "- Plot how evolve the mean square error on train and test data through the sequence of $\\alpha$ values."
   ]
  },
  {
   "cell_type": "code",
   "execution_count": 81,
   "metadata": {},
   "outputs": [
    {
     "data": {
      "image/png": "[encoded data removed]",
      "text/plain": [
       "<Figure size 432x288 with 1 Axes>"
      ]
     },
     "metadata": {
      "needs_background": "light"
     },
     "output_type": "display_data"
    }
   ],
   "source": [
    "# Plot Mean Squared Error on train data\n",
    "plt.semilogx(alphas, e[0, :], color = 'blue')\n",
    "# Plot Mean Squared Error on train data\n",
    "plt.semilogx(alphas, e[1, :], color = 'red')\n",
    "\n",
    "plt.show()"
   ]
  },
  {
   "cell_type": "markdown",
   "metadata": {},
   "source": [
    "- Conclude? (Which is the best value for $\\alpha$)"
   ]
  },
  {
   "cell_type": "code",
   "execution_count": 82,
   "metadata": {},
   "outputs": [
    {
     "data": {
      "text/plain": [
       "10"
      ]
     },
     "execution_count": 82,
     "metadata": {},
     "output_type": "execute_result"
    }
   ],
   "source": [
    "10"
   ]
  },
  {
   "cell_type": "markdown",
   "metadata": {},
   "source": [
    "### Lasso regression\n",
    "\n",
    "The ridge regression consists in finding the parameters $W$ which minimizes:\n",
    "$$\\frac{1}{2 \\times 60}\\sum_{i=1}^{60}\\left(W^T x_i - y_i\\right)^2 + \\alpha \\|W\\|_1$$\n",
    "\n",
    "- Using linear_model.Lasso and $\\alpha = 0.$, check that you obtain the same $W$ as linear regression"
   ]
  },
  {
   "cell_type": "code",
   "execution_count": 83,
   "metadata": {},
   "outputs": [
    {
     "name": "stdout",
     "output_type": "stream",
     "text": [
      "[ 0.40461954  0.52246673 -0.02499738  0.16200821 -0.74830121 -0.08828183\n",
      "  0.38558413]\n"
     ]
    },
    {
     "name": "stderr",
     "output_type": "stream",
     "text": [
      "/usr/lib/python3.7/site-packages/ipykernel_launcher.py:2: UserWarning: With alpha=0, this algorithm does not converge well. You are advised to use the LinearRegression estimator\n",
      "  \n",
      "/home/t_yo/.local/lib/python3.7/site-packages/sklearn/linear_model/coordinate_descent.py:475: UserWarning: Coordinate descent with no regularization may lead to unexpected results and is discouraged.\n",
      "  positive)\n",
      "/home/t_yo/.local/lib/python3.7/site-packages/sklearn/linear_model/coordinate_descent.py:475: ConvergenceWarning: Objective did not converge. You might want to increase the number of iterations. Duality gap: 8.633246593799845, tolerance: 0.003881537381634925\n",
      "  positive)\n"
     ]
    }
   ],
   "source": [
    "from sklearn.linear_model import Lasso\n",
    "lasreg = Lasso(alpha=0).fit(xtrain.T, ytrain.reshape((ytrain.shape[0], 1)))\n",
    "print(lasreg.coef_)"
   ]
  },
  {
   "cell_type": "markdown",
   "metadata": {},
   "source": [
    "In this part, we will check the influence of $\\alpha$ on the solution of the linear regression\n",
    "\n",
    "- Train a Lasso regression with different values of $\\alpha$ = np.logspace(-5, 5, 200), save the values of W, Mean squared errors on train and test data."
   ]
  },
  {
   "cell_type": "code",
   "execution_count": 84,
   "metadata": {},
   "outputs": [],
   "source": [
    "alphas = np.logspace(-5, 5, 200)\n",
    "e=[]\n",
    "w=[]\n",
    "for a in alphas:\n",
    "    lasreg = Lasso(alpha=a).fit(xtrain.T, ytrain)\n",
    "    etrain = np.mean((lasreg.predict(xtrain.T) - ytrain) ** 2)\n",
    "    etest = np.mean((lasreg.predict(Xtest.T) - Ytest) ** 2)\n",
    "    e.append(np.array([etrain, etest]))\n",
    "    w.append(lasreg.coef_)\n",
    "\n",
    "e=np.array(e).T\n",
    "w=np.array(w).T"
   ]
  },
  {
   "cell_type": "markdown",
   "metadata": {},
   "source": [
    "- Plot how evolve each $W_i$ through the sequence of $\\alpha$ values."
   ]
  },
  {
   "cell_type": "code",
   "execution_count": 85,
   "metadata": {},
   "outputs": [
    {
     "data": {
      "image/png": "[encoded data removed]",
      "text/plain": [
       "<Figure size 432x288 with 1 Axes>"
      ]
     },
     "metadata": {
      "needs_background": "light"
     },
     "output_type": "display_data"
    }
   ],
   "source": [
    "for i in range(7):\n",
    "    plt.semilogx(alphas, w[i, :])\n",
    "\n",
    "plt.show()"
   ]
  },
  {
   "cell_type": "markdown",
   "metadata": {},
   "source": [
    "- Plot how evolve the mean square error on train and test data through the sequence of $\\alpha$ values."
   ]
  },
  {
   "cell_type": "code",
   "execution_count": 86,
   "metadata": {},
   "outputs": [
    {
     "data": {
      "image/png": "[encoded data removed]",
      "text/plain": [
       "<Figure size 432x288 with 1 Axes>"
      ]
     },
     "metadata": {
      "needs_background": "light"
     },
     "output_type": "display_data"
    }
   ],
   "source": [
    "# Plot Mean Squared Error on train data\n",
    "plt.semilogx(alphas, e[0, :], color = 'blue')\n",
    "# Plot Mean Squared Error on train data\n",
    "plt.semilogx(alphas, e[1, :], color = 'red')\n",
    "\n",
    "plt.show()"
   ]
  },
  {
   "cell_type": "markdown",
   "metadata": {},
   "source": [
    "- Conclude? (Which is the best value for $\\alpha$)"
   ]
  },
  {
   "cell_type": "code",
   "execution_count": 87,
   "metadata": {},
   "outputs": [
    {
     "data": {
      "text/plain": [
       "0.01"
      ]
     },
     "execution_count": 87,
     "metadata": {},
     "output_type": "execute_result"
    }
   ],
   "source": [
    "0.01"
   ]
  },
  {
   "cell_type": "markdown",
   "metadata": {},
   "source": [
    "Compare the result with ridge solution?"
   ]
  },
  {
   "cell_type": "markdown",
   "metadata": {},
   "source": [
    "Ridge solution seems to have less overfitting than Lasso but lasso solution seems to have a better approximation"
   ]
  },
  {
   "cell_type": "markdown",
   "metadata": {},
   "source": [
    "## Part 2: Logistic Regression \n",
    "### Import Data\n",
    "\n",
    "We will use the Wine dataset from UCI. These data are the results of a chemical analysis of wines grown in the same region in Italy but derived from three different cultivars. The analysis determined the quantities of thirteen constituents found in each of the three types of wines.\n",
    "\n",
    "# Loading and Plotting Data\n",
    " \n",
    "First, we will use only two features from the data set: alcohol and ash (We can plot the solution in 2D space). The labels are supplied as an array of data with values from 1 to 3, but at first, we want a simple binary regression problem with a yes or no answer.  \n",
    "\n",
    "We filter the data set, reducing it to only include wines with labels 1 or 2.  "
   ]
  },
  {
   "cell_type": "code",
   "execution_count": 104,
   "metadata": {},
   "outputs": [],
   "source": [
    "import pandas as pd\n",
    "import numpy as np\n",
    "from sklearn.preprocessing import label_binarize\n",
    "\n",
    "data = pd.read_csv('data3.txt')\n",
    "\n",
    "reduced = data[data['class'] <= 2]\n",
    "X = reduced[['alcohol', 'ash']].to_numpy()\n",
    "y = label_binarize(reduced['class'].to_numpy(), [1, 2])[:,0]"
   ]
  },
  {
   "cell_type": "code",
   "execution_count": 105,
   "metadata": {},
   "outputs": [
    {
     "name": "stdout",
     "output_type": "stream",
     "text": [
      "train: 97 test: 33\n"
     ]
    }
   ],
   "source": [
    "# split data into train and validation set\n",
    "from sklearn.model_selection import train_test_split\n",
    "\n",
    "Xtrain, Xtest, ytrain, ytest = train_test_split(X, y, test_size=0.25)\n",
    "print('train:', len(Xtrain), 'test:', len(Xtest))"
   ]
  },
  {
   "cell_type": "code",
   "execution_count": 106,
   "metadata": {},
   "outputs": [
    {
     "data": {
      "image/png": "[encoded data removed]",
      "text/plain": [
       "<Figure size 432x288 with 1 Axes>"
      ]
     },
     "metadata": {
      "needs_background": "light"
     },
     "output_type": "display_data"
    }
   ],
   "source": [
    "import matplotlib.pyplot as plt\n",
    "%matplotlib inline\n",
    "\n",
    "MARKERS = ['+', 'x', '.']\n",
    "COLORS = ['red', 'green', 'blue']\n",
    "\n",
    "def plot_points(xy, labels):\n",
    "    \n",
    "    for i, label in enumerate(set(labels)):\n",
    "        points = np.array([xy[j,:] for j in range(len(xy)) if labels[j] == label])\n",
    "        marker = MARKERS[i % len(MARKERS)]\n",
    "        color = COLORS[i % len(COLORS)]\n",
    "        plt.scatter(points[:,0], points[:,1], marker=marker, color=color)\n",
    "\n",
    "plot_points(Xtrain, ytrain)"
   ]
  },
  {
   "cell_type": "markdown",
   "metadata": {},
   "source": [
    "We can see that we can plot line that could divide the two colored points with a small amount of error.\n",
    "\n",
    "# Logistic Regression\n",
    "\n",
    "To implement logistic regression, we need to define the cost function $J(\\theta)$, and compute the partial derivatives of $J(\\theta)$. As we have seen previously:\n",
    "\n",
    "$$\n",
    "J(\\theta) =-\\frac{1}{N}\\sum_{i=1}^{N}y^{i}\\log(f_\\theta(x^{i}))+(1-y^{i})\\log(1-f_\\theta(x^{i}))\n",
    "$$\n",
    "\n",
    "where $f_\\theta(x)$ is the logistic function\n",
    "\n",
    "$$\n",
    "f_\\theta(x) = \\frac{1}{1 + e^{-\\theta^Tx}}\n",
    "$$\n",
    "\n",
    "- Compute the partiel derivatives of $J(\\theta)$ and write the two functions:\n",
    "    - cost(theta, X, y) which compute the value of $J(\\theta)$\n",
    "    - gradient(theta, X, y) which compute the value of the gradient of $J(\\theta)$"
   ]
  },
  {
   "cell_type": "code",
   "execution_count": 107,
   "metadata": {},
   "outputs": [],
   "source": [
    "def sigmoid(theta, X):\n",
    "    res = 1.0 / (1 + np.exp(-X @ theta))\n",
    "    return res\n",
    "\n",
    "def cost(theta, X, y):\n",
    "    res = -(1 / X.shape[0]) * np.sum(y * np.log(sigmoid(theta, X)) +\n",
    "                (1 - y) * np.log(1 - sigmoid(theta, X)))\n",
    "    return res\n",
    "\n",
    "def gradient(theta, X, y):\n",
    "    res = (1 / X.shape[0]) * np.dot(X.T, sigmoid(theta, X) - y)\n",
    "    return res"
   ]
  },
  {
   "cell_type": "markdown",
   "metadata": {},
   "source": [
    "- Using the function scipy.optimize.fmin_tnc which performs a gradient descent algorithm, write a function Train(x, y) which compute $\\theta$ that minimize $J(\\theta)$"
   ]
  },
  {
   "cell_type": "code",
   "execution_count": 116,
   "metadata": {},
   "outputs": [],
   "source": [
    "from scipy.optimize import fmin_tnc  \n",
    "\n",
    "def train(X, y):\n",
    "    X = np.insert(X, 0, np.ones(len(X)), axis=1)\n",
    "    theta = np.zeros(X.shape[1])\n",
    "    result = fmin_tnc(func=cost, x0=theta, fprime=gradient, args=(X, y,))    \n",
    "    return result[0]"
   ]
  },
  {
   "cell_type": "markdown",
   "metadata": {},
   "source": [
    "- compute the value of the best $\\theta$"
   ]
  },
  {
   "cell_type": "code",
   "execution_count": 117,
   "metadata": {},
   "outputs": [
    {
     "name": "stdout",
     "output_type": "stream",
     "text": [
      "(97, 2)\n",
      "[70.3761006  -4.92340347 -2.51832755]\n"
     ]
    }
   ],
   "source": [
    "print(Xtrain.shape)\n",
    "W = train(Xtrain, ytrain)\n",
    "print(W)"
   ]
  },
  {
   "cell_type": "markdown",
   "metadata": {},
   "source": [
    "- Plot the boundary and checks that it is linear?"
   ]
  },
  {
   "cell_type": "code",
   "execution_count": 118,
   "metadata": {},
   "outputs": [
    {
     "data": {
      "image/png": "[encoded data removed]",
      "text/plain": [
       "<Figure size 432x288 with 1 Axes>"
      ]
     },
     "metadata": {
      "needs_background": "light"
     },
     "output_type": "display_data"
    }
   ],
   "source": [
    "from matplotlib import cm\n",
    "from matplotlib.colors import LinearSegmentedColormap\n",
    "\n",
    "def predict(theta, X):\n",
    "    X = np.insert(X, 0, np.ones(len(X)), axis=1)\n",
    "    return (sigmoid(theta, X) >= 0.5).astype(int)\n",
    "\n",
    "def plot_boundary(X, pred):\n",
    "    \n",
    "    x_min, x_max = X[:,0].min() - .1, X[:,0].max() + .1\n",
    "    y_min, y_max = X[:,1].min() - .1, X[:,1].max() + .1\n",
    "    \n",
    "    xs, ys = np.meshgrid(\n",
    "        np.linspace(x_min, x_max, 200),\n",
    "        np.linspace(y_min, y_max, 200)\n",
    "    )\n",
    "\n",
    "    xys = np.column_stack([xs.ravel(), ys.ravel()])\n",
    "    zs = pred(xys).reshape(xs.shape)\n",
    "    plt.contour(xs, ys, zs, colors='black')\n",
    "  \n",
    "plot_boundary(Xtrain, lambda x: predict(W, x))\n",
    "plot_points(Xtrain, ytrain)"
   ]
  },
  {
   "cell_type": "markdown",
   "metadata": {},
   "source": [
    "- Using sklearn.metrics, compute the accuracy, the precision and the recall of this classifier"
   ]
  },
  {
   "cell_type": "code",
   "execution_count": 119,
   "metadata": {},
   "outputs": [
    {
     "name": "stdout",
     "output_type": "stream",
     "text": [
      "accuracy: 0.9090909090909091\n",
      "precision: 0.9115384615384616\n",
      "recall: 0.9022556390977443\n"
     ]
    }
   ],
   "source": [
    "from sklearn.metrics import accuracy_score, precision_score, recall_score\n",
    "\n",
    "predictions = predict(W, Xtest)\n",
    "print('accuracy:', accuracy_score(ytest, predictions))\n",
    "print('precision:', precision_score(ytest, predictions, average='macro'))\n",
    "print('recall:', recall_score(ytest, predictions, average='macro'))"
   ]
  },
  {
   "cell_type": "markdown",
   "metadata": {},
   "source": [
    "- How can we obtain a quadratic boundary? check it and plot the boundary?"
   ]
  },
  {
   "cell_type": "code",
   "execution_count": 120,
   "metadata": {},
   "outputs": [
    {
     "name": "stdout",
     "output_type": "stream",
     "text": [
      "[40.08044334 -0.19505402 -0.56080752  0.30037767 -0.31851614 -3.6371991 ]\n"
     ]
    },
    {
     "data": {
      "image/png": "[encoded data removed]",
      "text/plain": [
       "<Figure size 432x288 with 1 Axes>"
      ]
     },
     "metadata": {
      "needs_background": "light"
     },
     "output_type": "display_data"
    }
   ],
   "source": [
    "from sklearn.preprocessing import PolynomialFeatures\n",
    "\n",
    "def transform(x):\n",
    "    #return PolynomialFeatures(2).fit_transform(x)\n",
    "    return np.vstack((x[:, 0] ** 2, x[:, 1] ** 2, x[:, 0] * x[:, 1], x[:, 0], x[:, 1])).T\n",
    "\n",
    "W = train(transform(Xtrain), ytrain)\n",
    "print(W)\n",
    "plot_points(Xtrain, ytrain)\n",
    "plot_boundary(Xtrain, lambda x: predict(W, transform(x)))"
   ]
  },
  {
   "cell_type": "markdown",
   "metadata": {},
   "source": [
    "- Compute the accuracy, the precision and the recall of this classifier"
   ]
  },
  {
   "cell_type": "code",
   "execution_count": 121,
   "metadata": {},
   "outputs": [
    {
     "name": "stdout",
     "output_type": "stream",
     "text": [
      "accuracy: 0.9090909090909091\n",
      "precision: 0.9115384615384616\n",
      "recall: 0.9022556390977443\n"
     ]
    }
   ],
   "source": [
    "predictions = predict(W, transform(Xtest))\n",
    "print('accuracy:', accuracy_score(ytest, predictions))\n",
    "print('precision:', precision_score(ytest, predictions, average='macro'))\n",
    "print('recall:', recall_score(ytest, predictions, average='macro'))"
   ]
  },
  {
   "cell_type": "markdown",
   "metadata": {},
   "source": [
    "# Multinomial Logistic Regression\n",
    "\n",
    "The next step is something more interesting: we use a similar set of two features from the data set (this time alcohol and flavanoids), but with all three labels instead of two."
   ]
  },
  {
   "cell_type": "code",
   "execution_count": 122,
   "metadata": {},
   "outputs": [
    {
     "data": {
      "image/png": "[encoded data removed]",
      "text/plain": [
       "<Figure size 432x288 with 1 Axes>"
      ]
     },
     "metadata": {
      "needs_background": "light"
     },
     "output_type": "display_data"
    }
   ],
   "source": [
    "X = data[['alcohol', 'flavanoids']].to_numpy()\n",
    "y = data[['class']].to_numpy()\n",
    "Xtrain, Xtest, ytrain, ytest = train_test_split(X, y, test_size=0.25)\n",
    "ytrain = label_binarize(ytrain, [1, 2, 3])\n",
    "plot_points(Xtrain, ytrain.argmax(axis=1))"
   ]
  },
  {
   "cell_type": "markdown",
   "metadata": {},
   "source": [
    "The plotted data points again suggest some obvious linear boundaries between the three classes.\n",
    "\n",
    "We can solve this problem as three one-vs-all problems, and re-use all the previous code. In this part, we will try another solution inspired from softmax function known as softmax regression (See C.Bishop, \"Pattern Recognition and Machine Learning\", 2006, Springer).\n",
    "\n",
    "$$\n",
    "SoftMax_\\Theta(x, k) = \\frac{e^{\\theta_k^Tx}}{\\sum\\limits_{c=1}^K e^{\\theta_c^Tx}}\n",
    "$$\n",
    "\n",
    "The cost function is defined as follows:\n",
    "\n",
    "$$\n",
    "J(\\Theta) =-\\frac{1}{N}\\sum_{i=1}^{N}\\sum_{k=1}^3\\left[y_k^{i}\\log\\left(SoftMax_\\Theta\\left(x^{i}, k\\right)\\right)\\right]\n",
    "$$\n",
    "\n",
    "- Propose a solution using the SoftMax function and test it with linear and quadratic separator? "
   ]
  },
  {
   "cell_type": "code",
   "execution_count": null,
   "metadata": {},
   "outputs": [],
   "source": [
    "def softmax(w, x):\n",
    "    ...\n",
    "\n",
    "def cost(w, x, y):\n",
    "    ... \n",
    "\n",
    "def grad(w, x, y):\n",
    "    ... \n",
    "\n",
    "def train(X, y):\n",
    "    X = np.insert(X, 0, np.ones(len(X)), axis=1)\n",
    "    theta = np.zeros((X.shape[1], y.shape[1]))\n",
    "    result = fmin_tnc(...)\n",
    "    \n",
    "    return result[0].reshape((X.shape[1], -1))\n",
    "\n",
    "W1 = train(...)\n",
    "print(W1)\n",
    "\n",
    "W2 = train(...)\n",
    "print(W2)"
   ]
  },
  {
   "cell_type": "code",
   "execution_count": null,
   "metadata": {},
   "outputs": [],
   "source": [
    "def predict_multi(x, w):\n",
    "    ...\n",
    "\n",
    "plot_points(Xtrain, ytrain.argmax(axis=1))\n",
    "plot_boundary(Xtrain, lambda x: predict_multi(x, W1))"
   ]
  },
  {
   "cell_type": "code",
   "execution_count": null,
   "metadata": {},
   "outputs": [],
   "source": [
    "plot_points(Xtrain, ytrain.argmax(axis=1))\n",
    "plot_boundary(Xtrain, lambda x: ...)"
   ]
  },
  {
   "cell_type": "markdown",
   "metadata": {},
   "source": [
    "- Compute the accuracy, the precision and the recall of these classifiers"
   ]
  },
  {
   "cell_type": "code",
   "execution_count": null,
   "metadata": {},
   "outputs": [],
   "source": []
  },
  {
   "cell_type": "markdown",
   "metadata": {},
   "source": [
    "- Conclude?"
   ]
  },
  {
   "cell_type": "code",
   "execution_count": null,
   "metadata": {},
   "outputs": [],
   "source": []
  }
 ],
 "metadata": {
  "kernelspec": {
   "display_name": "Python 3",
   "language": "python",
   "name": "python3"
  },
  "language_info": {
   "codemirror_mode": {
    "name": "ipython",
    "version": 3
   },
   "file_extension": ".py",
   "mimetype": "text/x-python",
   "name": "python",
   "nbconvert_exporter": "python",
   "pygments_lexer": "ipython3",
   "version": "3.8.5"
  }
 },
 "nbformat": 4,
 "nbformat_minor": 2
}
