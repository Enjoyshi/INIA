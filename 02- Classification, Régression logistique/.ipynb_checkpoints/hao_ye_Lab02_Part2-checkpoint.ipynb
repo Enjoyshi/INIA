{
 "cells": [
  {
   "cell_type": "markdown",
   "metadata": {},
   "source": [
    "# <center> Lab 02 Part2: Classification, Logistic Regression<br> <small>Réda DEHAK<br> 17 Mai 2021</small> </center>\n",
    "\n",
    "The goal of this lab is:\n",
    "\n",
    "    - Test the logistic regression on classification problems."
   ]
  },
  {
   "cell_type": "markdown",
   "metadata": {},
   "source": [
    "## Part 2: Logistic Regression \n",
    "### Import Data\n",
    "\n",
    "We will use the Wine dataset from UCI. These data are the results of a chemical analysis of wines grown in the same region in Italy but derived from three different cultivars. The analysis determined the quantities of thirteen constituents found in each of the three types of wines.\n",
    "\n",
    "# Loading and Plotting Data\n",
    " \n",
    "First, we will use only two features from the data set: alcohol and ash (We can plot the solution in 2D space). The labels are supplied as an array of data with values from 1 to 3, but at first, we want a simple binary regression problem with a yes or no answer.  \n",
    "\n",
    "We filter the data set, reducing it to only include wines with labels 1 or 2.  "
   ]
  },
  {
   "cell_type": "code",
   "execution_count": 1,
   "metadata": {},
   "outputs": [
    {
     "name": "stdout",
     "output_type": "stream",
     "text": [
      "Using matplotlib backend: Qt5Agg\n",
      "Populating the interactive namespace from numpy and matplotlib\n"
     ]
    }
   ],
   "source": [
    "%pylab\n",
    "%matplotlib inline\n",
    "import pickle\n",
    "import matplotlib.pyplot as plt\n",
    "import numpy as np"
   ]
  },
  {
   "cell_type": "code",
   "execution_count": 2,
   "metadata": {},
   "outputs": [],
   "source": [
    "import pandas as pd\n",
    "from sklearn.preprocessing import label_binarize\n",
    "\n",
    "data = pd.read_csv('data3.txt')\n",
    "\n",
    "reduced = data[data['class'] <= 2]\n",
    "X = reduced[['alcohol', 'ash']].to_numpy()\n",
    "y = label_binarize(reduced['class'].to_numpy(), classes=[1, 2])[:,0]"
   ]
  },
  {
   "cell_type": "code",
   "execution_count": 3,
   "metadata": {},
   "outputs": [
    {
     "name": "stdout",
     "output_type": "stream",
     "text": [
      "train: 97 test: 33\n"
     ]
    }
   ],
   "source": [
    "# split data into train and validation set\n",
    "from sklearn.model_selection import train_test_split\n",
    "\n",
    "#Fix random_state to have the same split for each run \n",
    "Xtrain, Xtest, ytrain, ytest = train_test_split(X, y, test_size=0.25, random_state=42)\n",
    "print('train:', len(Xtrain), 'test:', len(Xtest))"
   ]
  },
  {
   "cell_type": "code",
   "execution_count": 4,
   "metadata": {},
   "outputs": [
    {
     "data": {
      "image/png": "[encoded data removed]",
      "text/plain": [
       "<Figure size 432x288 with 1 Axes>"
      ]
     },
     "metadata": {
      "needs_background": "light"
     },
     "output_type": "display_data"
    }
   ],
   "source": [
    "import matplotlib.pyplot as plt\n",
    "%matplotlib inline\n",
    "\n",
    "MARKERS = ['+', 'x', '.']\n",
    "COLORS = ['red', 'green', 'blue']\n",
    "\n",
    "def plot_points(xy, labels):\n",
    "    \n",
    "    for i, label in enumerate(set(labels)):\n",
    "        points = np.array([xy[j,:] for j in range(len(xy)) if labels[j] == label])\n",
    "        marker = MARKERS[i % len(MARKERS)]\n",
    "        color = COLORS[i % len(COLORS)]\n",
    "        plt.scatter(points[:,0], points[:,1], marker=marker, color=color)\n",
    "\n",
    "plot_points(Xtrain, ytrain)"
   ]
  },
  {
   "cell_type": "markdown",
   "metadata": {},
   "source": [
    "We can see that we can plot line that could divide the two colored points with a small amount of error.\n",
    "\n",
    "# Logistic Regression\n",
    "\n",
    "To implement logistic regression, we need to define the cost function $J(\\theta)$, and compute the partial derivatives of $J(\\theta)$. As we have seen previously:\n",
    "\n",
    "$$\n",
    "J(\\theta) =-\\frac{1}{N}\\sum_{i=1}^{N}y^{i}\\log(f_\\theta(x^{i}))+(1-y^{i})\\log(1-f_\\theta(x^{i}))\n",
    "$$\n",
    "\n",
    "where $f_\\theta(x)$ is the logistic function\n",
    "\n",
    "$$\n",
    "f_\\theta(x) = \\frac{1}{1 + e^{-\\theta^Tx}}\n",
    "$$\n",
    "\n",
    "- Compute the partiel derivatives of $J(\\theta)$ and write the two functions:\n",
    "    - cost(theta, X, y) which compute the value of $J(\\theta)$\n",
    "    - gradient(theta, X, y) which compute the value of the gradient of $J(\\theta)$"
   ]
  },
  {
   "cell_type": "code",
   "execution_count": 5,
   "metadata": {},
   "outputs": [],
   "source": [
    "def sigmoid(theta, X):\n",
    "    return 1 / (1 + np.exp(-theta @ X.T))\n",
    "\n",
    "def cost(theta, X, y):\n",
    "    N = X.shape[0]\n",
    "    return -(1/N) * np.sum(y * np.log(sigmoid(theta, X)) + (1 - y) * np.log(1 - sigmoid(theta, X)))\n",
    "\n",
    "def gradient(theta, X, y):\n",
    "    return X.T @ (sigmoid(theta, X) - y)  "
   ]
  },
  {
   "cell_type": "markdown",
   "metadata": {},
   "source": [
    "- Using the function scipy.optimize.fmin_tnc which performs a gradient descent algorithm, write a function Train(x, y) which compute $\\theta$ that minimize $J(\\theta)$"
   ]
  },
  {
   "cell_type": "code",
   "execution_count": 6,
   "metadata": {},
   "outputs": [],
   "source": [
    "from scipy.optimize import fmin_tnc\n",
    "\n",
    "def train(X, y):\n",
    "    X = np.insert(X, 0, np.ones(len(X)), axis=1)\n",
    "    theta = np.zeros(X.shape[1])\n",
    "    result = fmin_tnc(func=cost, x0=theta, fprime=gradient, args=(X, y))\n",
    "    \n",
    "    return result[0]"
   ]
  },
  {
   "cell_type": "markdown",
   "metadata": {},
   "source": [
    "- compute the value of the best $\\theta$"
   ]
  },
  {
   "cell_type": "code",
   "execution_count": 7,
   "metadata": {
    "scrolled": true
   },
   "outputs": [],
   "source": [
    "theta = train(Xtrain,ytrain)"
   ]
  },
  {
   "cell_type": "markdown",
   "metadata": {},
   "source": [
    "- Plot the boundary and checks that it is linear?"
   ]
  },
  {
   "cell_type": "code",
   "execution_count": 8,
   "metadata": {},
   "outputs": [
    {
     "data": {
      "image/png": "[encoded data removed]",
      "text/plain": [
       "<Figure size 432x288 with 1 Axes>"
      ]
     },
     "metadata": {
      "needs_background": "light"
     },
     "output_type": "display_data"
    }
   ],
   "source": [
    "from matplotlib import cm\n",
    "from matplotlib.colors import LinearSegmentedColormap\n",
    "\n",
    "def predict(theta, X):\n",
    "    X = np.insert(X, 0, np.ones(len(X)), axis=1)\n",
    "    return (sigmoid(theta, X) >= 0.5).astype(int)\n",
    "    \n",
    "def plot_boundary(X, pred):\n",
    "    \n",
    "    x_min, x_max = X[:,0].min() - .1, X[:,0].max() + .1\n",
    "    y_min, y_max = X[:,1].min() - .1, X[:,1].max() + .1\n",
    "    \n",
    "    xs, ys = np.meshgrid(\n",
    "        np.linspace(x_min, x_max, 200),\n",
    "        np.linspace(y_min, y_max, 200)\n",
    "    )\n",
    "\n",
    "    xys = np.column_stack([xs.ravel(), ys.ravel()])\n",
    "    zs = pred(xys).reshape(xs.shape)\n",
    "    plt.contour(xs, ys, zs, colors='black')\n",
    "  \n",
    "plot_boundary(Xtrain, lambda x: predict(theta, x))\n",
    "plot_points(Xtrain, ytrain)"
   ]
  },
  {
   "cell_type": "markdown",
   "metadata": {},
   "source": [
    "## - Using sklearn.metrics, compute the confusion matrix, the accuracy, the precision and the recall of this classifier"
   ]
  },
  {
   "cell_type": "code",
   "execution_count": 9,
   "metadata": {
    "scrolled": true
   },
   "outputs": [
    {
     "name": "stdout",
     "output_type": "stream",
     "text": [
      "accuracy: 0.9230769230769231\n",
      "precision: 0.9224158510384339\n",
      "recall: 0.9224158510384339\n"
     ]
    }
   ],
   "source": [
    "from sklearn.metrics import confusion_matrix, accuracy_score, precision_score, recall_score\n",
    "\n",
    "predictions = predict(theta, X)\n",
    "print('accuracy:', accuracy_score(y, predictions))\n",
    "print('precision:', precision_score(y, predictions,average='macro'))\n",
    "print('recall:', recall_score(y, predictions,average='macro'))"
   ]
  },
  {
   "cell_type": "markdown",
   "metadata": {},
   "source": [
    "- How can we obtain a quadratic boundary? check it and plot the boundary?"
   ]
  },
  {
   "cell_type": "code",
   "execution_count": 10,
   "metadata": {},
   "outputs": [
    {
     "name": "stdout",
     "output_type": "stream",
     "text": [
      "[195.35818843   1.14145169   0.78266219  -2.1733293  -29.04431825\n",
      "  21.92241095]\n"
     ]
    },
    {
     "data": {
      "image/png": "[encoded data removed]",
      "text/plain": [
       "<Figure size 432x288 with 1 Axes>"
      ]
     },
     "metadata": {
      "needs_background": "light"
     },
     "output_type": "display_data"
    }
   ],
   "source": [
    "from sklearn.preprocessing import PolynomialFeatures\n",
    "\n",
    "def transform(x):\n",
    "    #return PolynomialFeatures(2).fit_transform(x)\n",
    "    return np.vstack((x[:, 0] ** 2, x[:, 1] ** 2, x[:, 0] * x[:, 1], x[:, 0], x[:, 1])).T\n",
    "\n",
    "\n",
    "W = train(transform(Xtrain), ytrain)\n",
    "print(W)\n",
    "plot_points(Xtrain, ytrain)\n",
    "plot_boundary(Xtrain, lambda x: predict(W, transform(x)))"
   ]
  },
  {
   "cell_type": "markdown",
   "metadata": {},
   "source": [
    "- Compute the confusion matrix, the accuracy, the precision and the recall of this classifier"
   ]
  },
  {
   "cell_type": "code",
   "execution_count": 11,
   "metadata": {},
   "outputs": [
    {
     "name": "stdout",
     "output_type": "stream",
     "text": [
      "confusion matrix: [[55  4]\n",
      " [ 6 65]]\n",
      "accuracy: 0.9230769230769231\n",
      "precision: 0.9420289855072463\n",
      "recall: 0.9154929577464789\n"
     ]
    }
   ],
   "source": [
    "predictions_bis = predict(W, transform(X))\n",
    "print('confusion matrix:', confusion_matrix(y, predictions_bis))\n",
    "print('accuracy:', accuracy_score(y, predictions_bis))\n",
    "print('precision:', precision_score(y, predictions_bis))\n",
    "print('recall:', recall_score(y, predictions_bis))"
   ]
  },
  {
   "cell_type": "markdown",
   "metadata": {},
   "source": [
    "# Multinomial Logistic Regression\n",
    "\n",
    "The next step is something more interesting: we use a similar set of two features from the data set (this time alcohol and flavanoids), but with all three labels instead of two."
   ]
  },
  {
   "cell_type": "code",
   "execution_count": 12,
   "metadata": {},
   "outputs": [
    {
     "data": {
      "image/png": "[encoded data removed]",
      "text/plain": [
       "<Figure size 432x288 with 1 Axes>"
      ]
     },
     "metadata": {
      "needs_background": "light"
     },
     "output_type": "display_data"
    }
   ],
   "source": [
    "X = data[['alcohol', 'flavanoids']].to_numpy()\n",
    "y = data[['class']].to_numpy()\n",
    "Xtrain, Xtest, ytrain, ytest = train_test_split(X, y, test_size=0.25)\n",
    "ytrain = label_binarize(ytrain, classes=[1, 2, 3])\n",
    "plot_points(Xtrain, ytrain.argmax(axis=1))"
   ]
  },
  {
   "cell_type": "markdown",
   "metadata": {},
   "source": [
    "The plotted data points again suggest some obvious linear boundaries between the three classes.\n",
    "\n",
    "We can solve this problem as three one-vs-all problems, and re-use all the previous code. In this part, we will try another solution inspired from softmax function known as softmax regression (See C.Bishop, \"Pattern Recognition and Machine Learning\", 2006, Springer).\n",
    "\n",
    "$$\n",
    "SoftMax_\\Theta(x, k) = \\frac{e^{\\theta_k^Tx}}{\\sum\\limits_{c=1}^K e^{\\theta_c^Tx}}\n",
    "$$\n",
    "\n",
    "The cost function is defined as follows:\n",
    "\n",
    "$$\n",
    "J(\\Theta) =-\\frac{1}{N}\\sum_{i=1}^{N}\\sum_{k=1}^3\\left[y_k^{i}\\log\\left(SoftMax_\\Theta\\left(x^{i}, k\\right)\\right)\\right]\n",
    "$$\n",
    "\n",
    "- Propose a solution using the SoftMax function and test it with linear and quadratic separator? "
   ]
  },
  {
   "cell_type": "code",
   "execution_count": 15,
   "metadata": {},
   "outputs": [],
   "source": [
    "def softmax(w, x):\n",
    "    w = w.reshape((x.shape[1], -1))\n",
    "    K = w.shape[1]\n",
    "    N = x.shape[0]\n",
    "    y = np.zeros((N, K))\n",
    "    for k in range(K):\n",
    "        y[:, k] = np.exp(x.dot(w[:, k]))\n",
    "    s = np.sum(y, axis = 1)\n",
    "    y = np.diag(1./s) @ y\n",
    "    return y\n",
    "\n",
    "def cost(w, x, y):\n",
    "    w = w.reshape((x.shape[1], -1))\n",
    "    yhat = softmax(w, x)\n",
    "    K = w.shape[1]\n",
    "    s = 0\n",
    "    for k in range(K):\n",
    "        s += np.sum(y[:, k] * np.log(yhat[:, k])) \n",
    "    return -s / len(y) \n",
    "\n",
    "def grad(w, x, y):\n",
    "    error = softmax(w, x) - y\n",
    "    return x.T @ error / x.shape[0] \n",
    "\n",
    "def train(X, y):\n",
    "    X = np.insert(X, 0, np.ones(len(X)), axis=1)\n",
    "    theta = np.zeros((X.shape[1], y.shape[1]))\n",
    "    result = fmin_tnc(func=cost, x0=theta, fprime=grad, disp=5, args=(X, y))\n",
    "    \n",
    "    return result[0].reshape((X.shape[1], -1))\n",
    "\n",
    "W3 = train((Xtrain), ytrain)"
   ]
  },
  {
   "cell_type": "code",
   "execution_count": 16,
   "metadata": {},
   "outputs": [
    {
     "data": {
      "image/png": "[encoded data removed]",
      "text/plain": [
       "<Figure size 432x288 with 1 Axes>"
      ]
     },
     "metadata": {
      "needs_background": "light"
     },
     "output_type": "display_data"
    }
   ],
   "source": [
    "#Linear Separator\n",
    "\n",
    "def predict_multi(w, x):\n",
    "    x = np.insert(x, 0, np.ones(len(x)), axis=1)\n",
    "    preds = softmax(w, x)\n",
    "    return preds.argmax(axis=1)\n",
    "\n",
    "plot_points(Xtrain, ytrain.argmax(axis=1))\n",
    "plot_boundary(Xtrain, lambda x: predict_multi(W3, x))"
   ]
  },
  {
   "cell_type": "code",
   "execution_count": 17,
   "metadata": {},
   "outputs": [
    {
     "name": "stdout",
     "output_type": "stream",
     "text": [
      "[[ -5.5483719   12.87012274 -29.78341567]\n",
      " [ -5.5483719   12.87012274 -29.78341567]\n",
      " [  2.25063729  -0.59045069   0.78605642]\n",
      " [ -8.67267168   2.38555991  72.53167717]\n",
      " [ -0.28087834  -0.14232599   0.33334021]\n",
      " [  1.86093819  -0.25491854  -6.27537828]\n",
      " [ -0.92063144   1.93726169   1.2260073 ]]\n"
     ]
    },
    {
     "data": {
      "image/png": "[encoded data removed]",
      "text/plain": [
       "<Figure size 432x288 with 1 Axes>"
      ]
     },
     "metadata": {
      "needs_background": "light"
     },
     "output_type": "display_data"
    }
   ],
   "source": [
    "def transform(x):\n",
    "    return PolynomialFeatures(2).fit_transform(x)\n",
    "# Quadratic Separator\n",
    "W4 = train(transform(Xtrain), ytrain)\n",
    "print(W4)\n",
    "\n",
    "plot_points(Xtrain, ytrain.argmax(axis=1))\n",
    "plot_boundary(Xtrain, lambda x:predict_multi(W4, transform(x)))"
   ]
  },
  {
   "cell_type": "markdown",
   "metadata": {},
   "source": [
    "- Compute the confusion matrix, the accuracy, the precision and the recall of these classifiers"
   ]
  },
  {
   "cell_type": "code",
   "execution_count": 18,
   "metadata": {},
   "outputs": [
    {
     "name": "stdout",
     "output_type": "stream",
     "text": [
      "(45, 2)\n",
      "accuracy: 0.9111111111111111\n",
      "precision: 0.9285714285714285\n",
      "recall: 0.9077086656034025\n"
     ]
    }
   ],
   "source": [
    "print(Xtest.shape)\n",
    "predictions = predict_multi(W3, Xtest) + 1\n",
    "print('accuracy:', accuracy_score(ytest, predictions))\n",
    "print('precision:', precision_score(ytest, predictions, average='macro'))\n",
    "print('recall:', recall_score(ytest, predictions, average='macro'))"
   ]
  }
 ],
 "metadata": {
  "kernelspec": {
   "display_name": "Python 3",
   "language": "python",
   "name": "python3"
  },
  "language_info": {
   "codemirror_mode": {
    "name": "ipython",
    "version": 3
   },
   "file_extension": ".py",
   "mimetype": "text/x-python",
   "name": "python",
   "nbconvert_exporter": "python",
   "pygments_lexer": "ipython3",
   "version": "3.8.10"
  }
 },
 "nbformat": 4,
 "nbformat_minor": 2
}
