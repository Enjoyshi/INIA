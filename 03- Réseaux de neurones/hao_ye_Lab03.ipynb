{
 "cells": [
  {
   "cell_type": "markdown",
   "metadata": {},
   "source": [
    "# <center> LAB 03: Backpropagation in Multilayer Neural Networks<br> <small>Réda DEHAK<br> 06 January 2021</small> </center>\n",
    "\n",
    "The goal of this lab is :\n",
    "\n",
    "    - Understand neural networks and their layered architectures,\n",
    "    - Understand and implement backpropagation in `Numpy`"
   ]
  },
  {
   "cell_type": "markdown",
   "metadata": {},
   "source": [
    "## Part 1: Simple Case 2D problem \n",
    "### Import Data\n",
    "\n",
    "We will use the Wine dataset from UCI. These data are the results of a chemical analysis of wines grown in the same region in Italy but derived from three different cultivars. The analysis determined the quantities of thirteen constituents found in each of the three types of wines.\n",
    "\n",
    "# Loading and Plotting Data\n",
    " \n",
    "First, we will use only two features from the data set: alcohol and ash (We can plot the solution in 2D space). The labels are supplied as an array of data with values from 1 to 3."
   ]
  },
  {
   "cell_type": "code",
   "execution_count": 1,
   "metadata": {},
   "outputs": [],
   "source": [
    "import pandas as pd\n",
    "import numpy as np\n",
    "\n",
    "data = pd.read_csv('data.txt')\n",
    "\n",
    "X = data[['alcohol', 'flavanoids']].to_numpy()\n",
    "y = data[['class']].to_numpy().flatten() - 1"
   ]
  },
  {
   "cell_type": "code",
   "execution_count": 2,
   "metadata": {},
   "outputs": [
    {
     "name": "stdout",
     "output_type": "stream",
     "text": [
      "train: 133 test: 45\n"
     ]
    }
   ],
   "source": [
    "# split data into train and validation set\n",
    "from sklearn.model_selection import train_test_split\n",
    "\n",
    "X_train, X_test, y_train, y_test = train_test_split(X, y, test_size=0.25, random_state=None)\n",
    "print('train:', len(X_train), 'test:', len(X_test))"
   ]
  },
  {
   "cell_type": "code",
   "execution_count": 3,
   "metadata": {},
   "outputs": [
    {
     "data": {
      "image/png": "[encoded data removed]",
      "text/plain": [
       "<Figure size 432x288 with 1 Axes>"
      ]
     },
     "metadata": {
      "needs_background": "light"
     },
     "output_type": "display_data"
    }
   ],
   "source": [
    "import matplotlib.pyplot as plt\n",
    "%matplotlib inline\n",
    "\n",
    "MARKERS = ['+', 'x', '.']\n",
    "COLORS = ['red', 'green', 'blue']\n",
    "\n",
    "def plot_points(xy, labels):\n",
    "    \n",
    "    for i, label in enumerate(set(labels)):\n",
    "        points = np.array([xy[j,:] for j in range(len(xy)) if labels[j] == label])\n",
    "        marker = MARKERS[i % len(MARKERS)]\n",
    "        color = COLORS[i % len(COLORS)]\n",
    "        plt.scatter(points[:,0], points[:,1], marker=marker, color=color)\n",
    "\n",
    "plot_points(X_train, y_train.flatten())"
   ]
  },
  {
   "cell_type": "markdown",
   "metadata": {},
   "source": [
    "### Preprocessing\n",
    "\n",
    "- Normalization\n",
    "- Train / test split"
   ]
  },
  {
   "cell_type": "code",
   "execution_count": 4,
   "metadata": {},
   "outputs": [
    {
     "name": "stdout",
     "output_type": "stream",
     "text": [
      "[13.00406015  2.03473684]\n",
      "[0.81941941 0.96261203]\n"
     ]
    }
   ],
   "source": [
    "from sklearn import preprocessing\n",
    "\n",
    "# Data Normalization: mean = 0; standard deviation = 1.0\n",
    "scaler = preprocessing.StandardScaler()\n",
    "X_train = scaler.fit_transform(X_train)\n",
    "X_test = scaler.transform(X_test)\n",
    "\n",
    "print(scaler.mean_)\n",
    "print(scaler.scale_)"
   ]
  },
  {
   "cell_type": "code",
   "execution_count": 5,
   "metadata": {},
   "outputs": [
    {
     "data": {
      "text/plain": [
       "(133, 2)"
      ]
     },
     "execution_count": 5,
     "metadata": {},
     "output_type": "execute_result"
    }
   ],
   "source": [
    "X_train.shape"
   ]
  },
  {
   "cell_type": "code",
   "execution_count": 6,
   "metadata": {},
   "outputs": [
    {
     "data": {
      "text/plain": [
       "dtype('float64')"
      ]
     },
     "execution_count": 6,
     "metadata": {},
     "output_type": "execute_result"
    }
   ],
   "source": [
    "X_train.dtype"
   ]
  },
  {
   "cell_type": "code",
   "execution_count": 7,
   "metadata": {},
   "outputs": [
    {
     "data": {
      "text/plain": [
       "(45, 2)"
      ]
     },
     "execution_count": 7,
     "metadata": {},
     "output_type": "execute_result"
    }
   ],
   "source": [
    "X_test.shape"
   ]
  },
  {
   "cell_type": "code",
   "execution_count": 8,
   "metadata": {},
   "outputs": [
    {
     "data": {
      "text/plain": [
       "dtype('float64')"
      ]
     },
     "execution_count": 8,
     "metadata": {},
     "output_type": "execute_result"
    }
   ],
   "source": [
    "X_test.dtype"
   ]
  },
  {
   "cell_type": "code",
   "execution_count": 9,
   "metadata": {},
   "outputs": [
    {
     "data": {
      "text/plain": [
       "(133,)"
      ]
     },
     "execution_count": 9,
     "metadata": {},
     "output_type": "execute_result"
    }
   ],
   "source": [
    "y_train.shape"
   ]
  },
  {
   "cell_type": "code",
   "execution_count": 10,
   "metadata": {},
   "outputs": [
    {
     "data": {
      "text/plain": [
       "dtype('int64')"
      ]
     },
     "execution_count": 10,
     "metadata": {},
     "output_type": "execute_result"
    }
   ],
   "source": [
    "y_train.dtype"
   ]
  },
  {
   "cell_type": "markdown",
   "metadata": {},
   "source": [
    "### One-hot encoding for class label data\n",
    "\n",
    "First let's define a helper function to compute the one hot encoding of an integer array for a fixed number of classes (similar to keras' `to_categorical`):"
   ]
  },
  {
   "cell_type": "code",
   "execution_count": 11,
   "metadata": {},
   "outputs": [],
   "source": [
    "def one_hot(y, n_classes):\n",
    "#     rtn = []\n",
    "#     if np.isscalar(y):\n",
    "#         rtn = np.zeros(n_classes)\n",
    "#         rtn[y] = 1\n",
    "#         return rtn\n",
    "#     for i in y:\n",
    "#         arr = np.zeros(n_classes)\n",
    "#         arr[i] = 1;\n",
    "#         rtn.append(arr)\n",
    "#     return rtn\n",
    "    return np.eye(n_classes)[y]\n",
    "\n",
    "    "
   ]
  },
  {
   "cell_type": "code",
   "execution_count": 12,
   "metadata": {},
   "outputs": [
    {
     "data": {
      "text/plain": [
       "array([0., 0., 0., 1., 0.], dtype=float32)"
      ]
     },
     "execution_count": 12,
     "metadata": {},
     "output_type": "execute_result"
    }
   ],
   "source": [
    "from tensorflow.keras.utils import to_categorical\n",
    "to_categorical(y=3, num_classes=5)"
   ]
  },
  {
   "cell_type": "code",
   "execution_count": 13,
   "metadata": {},
   "outputs": [
    {
     "data": {
      "text/plain": [
       "array([0., 0., 0., 1., 0.])"
      ]
     },
     "execution_count": 13,
     "metadata": {},
     "output_type": "execute_result"
    }
   ],
   "source": [
    "one_hot(y=3, n_classes=5)"
   ]
  },
  {
   "cell_type": "code",
   "execution_count": 14,
   "metadata": {},
   "outputs": [
    {
     "data": {
      "text/plain": [
       "array([[1., 0., 0., 0., 0., 0., 0., 0., 0., 0.],\n",
       "       [0., 0., 0., 0., 1., 0., 0., 0., 0., 0.],\n",
       "       [0., 0., 0., 0., 0., 0., 0., 0., 0., 1.],\n",
       "       [0., 1., 0., 0., 0., 0., 0., 0., 0., 0.]], dtype=float32)"
      ]
     },
     "execution_count": 14,
     "metadata": {},
     "output_type": "execute_result"
    }
   ],
   "source": [
    "to_categorical(y=[0, 4, 9, 1], num_classes=10)"
   ]
  },
  {
   "cell_type": "code",
   "execution_count": 15,
   "metadata": {},
   "outputs": [
    {
     "data": {
      "text/plain": [
       "array([[1., 0., 0., 0., 0., 0., 0., 0., 0., 0.],\n",
       "       [0., 0., 0., 0., 1., 0., 0., 0., 0., 0.],\n",
       "       [0., 0., 0., 0., 0., 0., 0., 0., 0., 1.],\n",
       "       [0., 1., 0., 0., 0., 0., 0., 0., 0., 0.]])"
      ]
     },
     "execution_count": 15,
     "metadata": {},
     "output_type": "execute_result"
    }
   ],
   "source": [
    "one_hot(y=[0, 4, 9, 1], n_classes=10)"
   ]
  },
  {
   "cell_type": "markdown",
   "metadata": {},
   "source": [
    "### The softmax function\n",
    "\n",
    "Now let's implement the softmax vector function:\n",
    "\n",
    "$$\n",
    "softmax(\\mathbf{x}) = \\frac{1}{\\sum_{i=1}^{n}{e^{x_i}}}\n",
    "\\cdot\n",
    "\\begin{bmatrix}\n",
    "  e^{x_1}\\\\\\\\\n",
    "  e^{x_2}\\\\\\\\\n",
    "  \\vdots\\\\\\\\\n",
    "  e^{x_n}\n",
    "\\end{bmatrix}\n",
    "$$"
   ]
  },
  {
   "cell_type": "code",
   "execution_count": 16,
   "metadata": {},
   "outputs": [],
   "source": [
    "def softmax(X):\n",
    "    y = np.exp(X)\n",
    "    y = y / np.sum(y, axis = -1, keepdims = True)\n",
    "    return y"
   ]
  },
  {
   "cell_type": "markdown",
   "metadata": {},
   "source": [
    "Make sure that this works one vector at a time (and check that the components sum to one):"
   ]
  },
  {
   "cell_type": "code",
   "execution_count": 17,
   "metadata": {},
   "outputs": [
    {
     "name": "stdout",
     "output_type": "stream",
     "text": [
      "[9.99662391e-01 3.35349373e-04 2.25956630e-06]\n",
      "1.0\n"
     ]
    }
   ],
   "source": [
    "print(softmax([10, 2, -3]))\n",
    "print(np.sum(softmax([10, 2, -3])))"
   ]
  },
  {
   "cell_type": "markdown",
   "metadata": {},
   "source": [
    "Note that a naive implementation of softmax might not be able process a batch of activations in a single call:"
   ]
  },
  {
   "cell_type": "code",
   "execution_count": 18,
   "metadata": {},
   "outputs": [
    {
     "name": "stdout",
     "output_type": "stream",
     "text": [
      "[[9.99662391e-01 3.35349373e-04 2.25956630e-06]\n",
      " [2.47262316e-03 9.97527377e-01 1.38536042e-11]]\n",
      "[1. 1.]\n"
     ]
    }
   ],
   "source": [
    "X = np.array([[10, 2, -3],\n",
    "              [-1, 5, -20]])\n",
    "print(softmax(X))\n",
    "print(np.sum(softmax(X), axis=-1))"
   ]
  },
  {
   "cell_type": "markdown",
   "metadata": {},
   "source": [
    "Implement a function that given the true one-hot encoded class `Y_true` and some predicted probabilities `Y_pred` returns the negative log likelihood."
   ]
  },
  {
   "cell_type": "code",
   "execution_count": 19,
   "metadata": {},
   "outputs": [
    {
     "name": "stdout",
     "output_type": "stream",
     "text": [
      "0.010040234894415344\n"
     ]
    }
   ],
   "source": [
    "EPS = 1E-5\n",
    "def nllk(Y_true, Y_pred):\n",
    "    Y_true = np.atleast_2d(Y_true)\n",
    "    Y_pred = np.atleast_2d(Y_pred)\n",
    "    llk = np.sum(np.log(EPS + Y_pred) * Y_true, axis=1)\n",
    "    return -np.mean(llk)\n",
    "\n",
    "\n",
    "# Make sure that it works for a simple sample at a time\n",
    "print(nllk([1, 0, 0], [.99, 0.01, 0]))"
   ]
  },
  {
   "cell_type": "markdown",
   "metadata": {},
   "source": [
    "Check that the nll of a very confident yet bad prediction is a much higher positive number:"
   ]
  },
  {
   "cell_type": "code",
   "execution_count": 20,
   "metadata": {},
   "outputs": [
    {
     "name": "stdout",
     "output_type": "stream",
     "text": [
      "4.604170685655008\n"
     ]
    }
   ],
   "source": [
    "print(nllk([1, 0, 0], [0.01, 0.01, .98]))"
   ]
  },
  {
   "cell_type": "markdown",
   "metadata": {},
   "source": [
    "Implement the `sigmoid` and its element-wise derivative `dsigmoid` functions:\n",
    "\n",
    "$$\n",
    "sigmoid(x) = \\frac{1}{1 + e^{-x}}\n",
    "$$\n",
    "\n",
    "$$\n",
    "dsigmoid(x) = sigmoid(x) \\cdot (1 - sigmoid(x))\n",
    "$$"
   ]
  },
  {
   "cell_type": "code",
   "execution_count": 21,
   "metadata": {},
   "outputs": [
    {
     "data": {
      "image/png": "[encoded data removed]",
      "text/plain": [
       "<Figure size 432x288 with 1 Axes>"
      ]
     },
     "metadata": {
      "needs_background": "light"
     },
     "output_type": "display_data"
    }
   ],
   "source": [
    "def sigmoid(X):\n",
    "    return 1 / (1 + np.exp(-X))\n",
    "\n",
    "\n",
    "def dsigmoid(X):\n",
    "    t = sigmoid(X)\n",
    "    return t * (1 - t)\n",
    "\n",
    "x = np.linspace(-5, 5, 100)\n",
    "plt.plot(x, sigmoid(x), label='sigmoid')\n",
    "plt.plot(x, dsigmoid(x), label='dsigmoid')\n",
    "plt.legend(loc='best');"
   ]
  },
  {
   "cell_type": "markdown",
   "metadata": {},
   "source": [
    "- Implement `forward` and `forward_keep_all` functions for a model with a hidden layer with a sigmoid activation function:\n",
    "  - $\\mathbf{h} = sigmoid\\left(\\mathbf{W}_h^T \\hat{\\mathbf{x}}\\right)$\n",
    "  - $\\mathbf{y} = softmax\\left(\\mathbf{W}_o^T \\hat{\\mathbf{h}}\\right)$\n",
    "\n",
    "- Notes: \n",
    "  - `forward_keep_activations` is similar to forward, but also returns hidden activations and pre activations;\n",
    "\n",
    "- Implement the grad function to compute all gradients; check that the gradients are well defined;\n",
    "\n",
    "- Implement the `train` and `loss` functions."
   ]
  },
  {
   "cell_type": "code",
   "execution_count": 32,
   "metadata": {},
   "outputs": [],
   "source": [
    "EPSILON = 1e-8\n",
    "\n",
    "\n",
    "class NeuralNet():\n",
    "    \"\"\"MLP with 1 hidden layer with a sigmoid activation\"\"\"\n",
    "    \n",
    "    def __init__(self, input_size, hidden_size, output_size):\n",
    "        self.W_h = np.random.uniform(size=(input_size + 1, hidden_size), high=0.01, low=-0.01)\n",
    "        self.W_o = np.random.uniform(size=(hidden_size + 1,output_size), high=0.01, low=-0.01)\n",
    "        self.output_size = output_size\n",
    "        \n",
    "    def forward(self, X):\n",
    "        X = np.atleast_2d(X)\n",
    "        In_h = np.insert(X.T, 0, np.ones(len(X)), axis=0)\n",
    "        z_h = self.W_h.T @ In_h\n",
    "        O_h = sigmoid(z_h)\n",
    "        \n",
    "        In_o = np.insert(O_h, 0, np.ones(O_h.shape[1]), axis=0)\n",
    "        z_o = self.W_o.T @ In_o\n",
    "        O = softmax(z_o.T)\n",
    "        \n",
    "        return O\n",
    "    \n",
    "    def forward_keep_activations(self, X):\n",
    "        X = np.atleast_2d(X)\n",
    "        In_h = np.insert(X.T, 0, np.ones(len(X)), axis=0)\n",
    "        z_h = self.W_h.T @ In_h\n",
    "        O_h = sigmoid(z_h)\n",
    "        \n",
    "        In_o = np.insert(O_h, 0, np.ones(O_h.shape[1]), axis=0)\n",
    "        z_o = self.W_o.T @ In_o\n",
    "        O = softmax(z_o.T)\n",
    "        \n",
    "        return In_h, In_o, O, O_h.T, z_h.T, z_o.T\n",
    "    \n",
    "    def loss(self, X, y):\n",
    "        return nllk(one_hot(y, n_classes=self.output_size), self.forward(X))\n",
    "\n",
    "    def grad_loss(self, x, y_true):\n",
    "        In_h, In_o, O, O_h, z_h, z_o = self.forward_keep_activations(x)\n",
    "        d_o = 2 * (O - one_hot(y_true,n_classes=self.output_size)) * dsigmoid(z_o)\n",
    "        \n",
    "        dEdW_o = In_o @ d_o\n",
    "        \n",
    "        W = np.delete(self.W_o, 0, axis=0)\n",
    "        d_h = (dsigmoid(z_h).T * (W @ d_o.T)).T\n",
    "        \n",
    "        dEdW_h = In_h @ d_h\n",
    "\n",
    "        return {\"dEdW_h\": dEdW_h, \"dEdW_o\": dEdW_o}\n",
    "\n",
    "    \n",
    "    def train(self, x, y, learning_rate, l2 = 0.):\n",
    "        # One step of Backpropagation on x\n",
    "        # l2 is the L2 regularization coefficient \n",
    "        grads = self.grad_loss(x, y)\n",
    "        self.W_h = self.W_h - learning_rate * (grads[\"dEdW_h\"])\n",
    "        self.W_o = self.W_o - learning_rate * (grads[\"dEdW_o\"])\n",
    "\n",
    "    def predict(self, X):\n",
    "        if len(X.shape) == 1:\n",
    "            return np.argmax(self.forward(X))\n",
    "        else:\n",
    "            return np.argmax(self.forward(X), axis=1)\n",
    "\n",
    "    def accuracy(self, X, y):\n",
    "        y_preds = np.argmax(self.forward(X), axis=1)\n",
    "        return np.mean(y_preds == y)"
   ]
  },
  {
   "cell_type": "markdown",
   "metadata": {},
   "source": [
    "Use the class NeuralNet to train a classifier on Wine Dataset, try different values for n_hidden (1,2,3 and 5), different Learning rate (0.1, 1, .5 and .01) and different l2 (0, 0.001, 0.005, 0.01) see the difference"
   ]
  },
  {
   "cell_type": "code",
   "execution_count": 33,
   "metadata": {},
   "outputs": [],
   "source": [
    "n_hidden = 3\n",
    "n_features = 2\n",
    "n_classes = 3\n",
    "model = NeuralNet(n_features, n_hidden, n_classes)"
   ]
  },
  {
   "cell_type": "code",
   "execution_count": 34,
   "metadata": {},
   "outputs": [
    {
     "data": {
      "text/plain": [
       "1.099415316923176"
      ]
     },
     "execution_count": 34,
     "metadata": {},
     "output_type": "execute_result"
    }
   ],
   "source": [
    "model.loss(X_train, y_train)"
   ]
  },
  {
   "cell_type": "code",
   "execution_count": 35,
   "metadata": {},
   "outputs": [
    {
     "data": {
      "text/plain": [
       "0.24812030075187969"
      ]
     },
     "execution_count": 35,
     "metadata": {},
     "output_type": "execute_result"
    }
   ],
   "source": [
    "model.accuracy(X_train, y_train)"
   ]
  },
  {
   "cell_type": "code",
   "execution_count": 36,
   "metadata": {},
   "outputs": [
    {
     "name": "stdout",
     "output_type": "stream",
     "text": [
      "Random init: train loss: 1.09942, train acc: 0.248, test acc: 0.333\n",
      "Epoch #1, train loss: 1.07891, train acc: 0.406, test acc: 0.378\n",
      "Epoch #2, train loss: 1.07606, train acc: 0.406, test acc: 0.378\n",
      "Epoch #3, train loss: 1.06812, train acc: 0.406, test acc: 0.378\n",
      "Epoch #4, train loss: 1.04480, train acc: 0.406, test acc: 0.378\n",
      "Epoch #5, train loss: 0.97761, train acc: 0.414, test acc: 0.400\n",
      "Epoch #6, train loss: 0.84015, train acc: 0.677, test acc: 0.600\n",
      "Epoch #7, train loss: 0.68333, train acc: 0.842, test acc: 0.711\n",
      "Epoch #8, train loss: 0.56478, train acc: 0.865, test acc: 0.844\n",
      "Epoch #9, train loss: 0.48457, train acc: 0.872, test acc: 0.844\n",
      "Epoch #10, train loss: 0.42957, train acc: 0.910, test acc: 0.867\n",
      "Epoch #11, train loss: 0.39057, train acc: 0.910, test acc: 0.867\n",
      "Epoch #12, train loss: 0.36198, train acc: 0.917, test acc: 0.911\n",
      "Epoch #13, train loss: 0.34035, train acc: 0.910, test acc: 0.911\n",
      "Epoch #14, train loss: 0.32354, train acc: 0.910, test acc: 0.911\n",
      "Epoch #15, train loss: 0.31013, train acc: 0.910, test acc: 0.911\n"
     ]
    }
   ],
   "source": [
    "losses, accuracies, accuracies_test = [], [], []\n",
    "losses.append(model.loss(X_train, y_train))\n",
    "accuracies.append(model.accuracy(X_train, y_train))\n",
    "accuracies_test.append(model.accuracy(X_test, y_test))\n",
    "\n",
    "print(\"Random init: train loss: %0.5f, train acc: %0.3f, test acc: %0.3f\"\n",
    "      % (losses[-1], accuracies[-1], accuracies_test[-1]))\n",
    "\n",
    "for epoch in range(15):\n",
    "    \n",
    "    for i in np.arange(X_train.shape[0]):\n",
    "        model.train(X_train[i, :], y_train[i], .1)\n",
    "\n",
    "    losses.append(model.loss(X_train, y_train))\n",
    "    accuracies.append(model.accuracy(X_train, y_train))\n",
    "    accuracies_test.append(model.accuracy(X_test, y_test))\n",
    "    print(\"Epoch #%d, train loss: %0.5f, train acc: %0.3f, test acc: %0.3f\"\n",
    "          % (epoch + 1, losses[-1], accuracies[-1], accuracies_test[-1]))"
   ]
  },
  {
   "cell_type": "code",
   "execution_count": 37,
   "metadata": {},
   "outputs": [
    {
     "data": {
      "image/png": "[encoded data removed]",
      "text/plain": [
       "<Figure size 432x288 with 1 Axes>"
      ]
     },
     "metadata": {
      "needs_background": "light"
     },
     "output_type": "display_data"
    }
   ],
   "source": [
    "plt.plot(losses)\n",
    "plt.title(\"Training loss\");"
   ]
  },
  {
   "cell_type": "code",
   "execution_count": 38,
   "metadata": {},
   "outputs": [
    {
     "data": {
      "image/png": "[encoded data removed]",
      "text/plain": [
       "<Figure size 432x288 with 1 Axes>"
      ]
     },
     "metadata": {
      "needs_background": "light"
     },
     "output_type": "display_data"
    }
   ],
   "source": [
    "plt.plot(accuracies, label='train')\n",
    "plt.plot(accuracies_test, label='test')\n",
    "plt.ylim(0, 1.1)\n",
    "plt.ylabel(\"accuracy\")\n",
    "plt.legend(loc='best');"
   ]
  },
  {
   "cell_type": "code",
   "execution_count": 39,
   "metadata": {},
   "outputs": [
    {
     "data": {
      "image/png": "[encoded data removed]",
      "text/plain": [
       "<Figure size 432x288 with 1 Axes>"
      ]
     },
     "metadata": {
      "needs_background": "light"
     },
     "output_type": "display_data"
    }
   ],
   "source": [
    "def plot_boundary(X, pred):\n",
    "    \n",
    "    x_min, x_max = X[:,0].min() - .1, X[:,0].max() + .1\n",
    "    y_min, y_max = X[:,1].min() - .1, X[:,1].max() + .1\n",
    "    \n",
    "    xs, ys = np.meshgrid(\n",
    "        np.linspace(x_min, x_max, 200),\n",
    "        np.linspace(y_min, y_max, 200)\n",
    "    )\n",
    "\n",
    "    xys = np.column_stack([xs.ravel(), ys.ravel()])\n",
    "    zs = pred(xys).reshape(xs.shape)\n",
    "    plt.contour(xs, ys, zs, colors='black')\n",
    "\n",
    "plot_points(X_train, y_train.flatten())\n",
    "plot_boundary(X_train, lambda x: model.predict(x))"
   ]
  },
  {
   "cell_type": "markdown",
   "metadata": {},
   "source": [
    "### Mini-batches"
   ]
  },
  {
   "cell_type": "code",
   "execution_count": 41,
   "metadata": {},
   "outputs": [
    {
     "name": "stdout",
     "output_type": "stream",
     "text": [
      "Random init: train loss: 1.09893, train acc: 0.248, test acc: 0.333\n",
      "Epoch #1, train loss: 1.08747, train acc: 0.346, test acc: 0.289\n",
      "Epoch #2, train loss: 1.08339, train acc: 0.346, test acc: 0.289\n",
      "Epoch #3, train loss: 1.07447, train acc: 0.406, test acc: 0.378\n",
      "Epoch #4, train loss: 1.05104, train acc: 0.489, test acc: 0.467\n",
      "Epoch #5, train loss: 0.99966, train acc: 0.496, test acc: 0.467\n",
      "Epoch #6, train loss: 0.91374, train acc: 0.910, test acc: 0.867\n",
      "Epoch #7, train loss: 0.73449, train acc: 0.759, test acc: 0.689\n",
      "Epoch #8, train loss: 0.59250, train acc: 0.850, test acc: 0.711\n",
      "Epoch #9, train loss: 0.50841, train acc: 0.917, test acc: 0.889\n",
      "Epoch #10, train loss: 0.44008, train acc: 0.887, test acc: 0.867\n",
      "Epoch #11, train loss: 0.40385, train acc: 0.880, test acc: 0.822\n",
      "Epoch #12, train loss: 0.36868, train acc: 0.925, test acc: 0.911\n",
      "Epoch #13, train loss: 0.34464, train acc: 0.925, test acc: 0.911\n",
      "Epoch #14, train loss: 0.32523, train acc: 0.917, test acc: 0.867\n",
      "Epoch #15, train loss: 0.31060, train acc: 0.917, test acc: 0.911\n",
      "Epoch #16, train loss: 0.30011, train acc: 0.910, test acc: 0.911\n",
      "Epoch #17, train loss: 0.28975, train acc: 0.917, test acc: 0.911\n",
      "Epoch #18, train loss: 0.28200, train acc: 0.917, test acc: 0.911\n",
      "Epoch #19, train loss: 0.27546, train acc: 0.932, test acc: 0.911\n",
      "Epoch #20, train loss: 0.27179, train acc: 0.932, test acc: 0.933\n",
      "Epoch #21, train loss: 0.26606, train acc: 0.925, test acc: 0.911\n",
      "Epoch #22, train loss: 0.25862, train acc: 0.917, test acc: 0.911\n",
      "Epoch #23, train loss: 0.25587, train acc: 0.925, test acc: 0.911\n",
      "Epoch #24, train loss: 0.25131, train acc: 0.925, test acc: 0.911\n",
      "Epoch #25, train loss: 0.24757, train acc: 0.925, test acc: 0.911\n",
      "Epoch #26, train loss: 0.24499, train acc: 0.925, test acc: 0.911\n",
      "Epoch #27, train loss: 0.24240, train acc: 0.925, test acc: 0.911\n",
      "Epoch #28, train loss: 0.24014, train acc: 0.925, test acc: 0.889\n",
      "Epoch #29, train loss: 0.23676, train acc: 0.925, test acc: 0.911\n",
      "Epoch #30, train loss: 0.23606, train acc: 0.925, test acc: 0.911\n",
      "Epoch #31, train loss: 0.23375, train acc: 0.925, test acc: 0.933\n",
      "Epoch #32, train loss: 0.23066, train acc: 0.925, test acc: 0.911\n",
      "Epoch #33, train loss: 0.22869, train acc: 0.925, test acc: 0.911\n",
      "Epoch #34, train loss: 0.22751, train acc: 0.932, test acc: 0.933\n",
      "Epoch #35, train loss: 0.22667, train acc: 0.925, test acc: 0.911\n",
      "Epoch #36, train loss: 0.22394, train acc: 0.925, test acc: 0.889\n",
      "Epoch #37, train loss: 0.22218, train acc: 0.925, test acc: 0.889\n",
      "Epoch #38, train loss: 0.22388, train acc: 0.932, test acc: 0.933\n",
      "Epoch #39, train loss: 0.21917, train acc: 0.925, test acc: 0.911\n",
      "Epoch #40, train loss: 0.21751, train acc: 0.925, test acc: 0.911\n",
      "Epoch #41, train loss: 0.21632, train acc: 0.925, test acc: 0.911\n",
      "Epoch #42, train loss: 0.21645, train acc: 0.932, test acc: 0.933\n",
      "Epoch #43, train loss: 0.21400, train acc: 0.925, test acc: 0.911\n",
      "Epoch #44, train loss: 0.21362, train acc: 0.925, test acc: 0.889\n",
      "Epoch #45, train loss: 0.21169, train acc: 0.925, test acc: 0.911\n",
      "Epoch #46, train loss: 0.21282, train acc: 0.932, test acc: 0.933\n",
      "Epoch #47, train loss: 0.21116, train acc: 0.932, test acc: 0.933\n",
      "Epoch #48, train loss: 0.20886, train acc: 0.932, test acc: 0.911\n",
      "Epoch #49, train loss: 0.20793, train acc: 0.932, test acc: 0.933\n",
      "Epoch #50, train loss: 0.20756, train acc: 0.932, test acc: 0.933\n",
      "Epoch #51, train loss: 0.20635, train acc: 0.932, test acc: 0.933\n",
      "Epoch #52, train loss: 0.20546, train acc: 0.932, test acc: 0.889\n",
      "Epoch #53, train loss: 0.20479, train acc: 0.932, test acc: 0.889\n",
      "Epoch #54, train loss: 0.20638, train acc: 0.932, test acc: 0.889\n",
      "Epoch #55, train loss: 0.20380, train acc: 0.932, test acc: 0.889\n",
      "Epoch #56, train loss: 0.20408, train acc: 0.932, test acc: 0.933\n",
      "Epoch #57, train loss: 0.20544, train acc: 0.932, test acc: 0.933\n",
      "Epoch #58, train loss: 0.20085, train acc: 0.932, test acc: 0.911\n",
      "Epoch #59, train loss: 0.20094, train acc: 0.932, test acc: 0.933\n",
      "Epoch #60, train loss: 0.20216, train acc: 0.932, test acc: 0.933\n",
      "Epoch #61, train loss: 0.19894, train acc: 0.940, test acc: 0.889\n",
      "Epoch #62, train loss: 0.19831, train acc: 0.932, test acc: 0.911\n",
      "Epoch #63, train loss: 0.19823, train acc: 0.932, test acc: 0.933\n",
      "Epoch #64, train loss: 0.19795, train acc: 0.932, test acc: 0.933\n",
      "Epoch #65, train loss: 0.19679, train acc: 0.940, test acc: 0.911\n",
      "Epoch #66, train loss: 0.19606, train acc: 0.940, test acc: 0.889\n",
      "Epoch #67, train loss: 0.19766, train acc: 0.932, test acc: 0.933\n",
      "Epoch #68, train loss: 0.19488, train acc: 0.940, test acc: 0.889\n",
      "Epoch #69, train loss: 0.19481, train acc: 0.940, test acc: 0.889\n",
      "Epoch #70, train loss: 0.19385, train acc: 0.940, test acc: 0.889\n",
      "Epoch #71, train loss: 0.19627, train acc: 0.932, test acc: 0.933\n",
      "Epoch #72, train loss: 0.19299, train acc: 0.940, test acc: 0.911\n",
      "Epoch #73, train loss: 0.19329, train acc: 0.940, test acc: 0.911\n",
      "Epoch #74, train loss: 0.19277, train acc: 0.947, test acc: 0.911\n",
      "Epoch #75, train loss: 0.19271, train acc: 0.940, test acc: 0.911\n",
      "Epoch #76, train loss: 0.19324, train acc: 0.940, test acc: 0.911\n",
      "Epoch #77, train loss: 0.19130, train acc: 0.940, test acc: 0.911\n",
      "Epoch #78, train loss: 0.19070, train acc: 0.940, test acc: 0.889\n",
      "Epoch #79, train loss: 0.19019, train acc: 0.940, test acc: 0.889\n",
      "Epoch #80, train loss: 0.18967, train acc: 0.947, test acc: 0.911\n",
      "Epoch #81, train loss: 0.19190, train acc: 0.932, test acc: 0.889\n",
      "Epoch #82, train loss: 0.18887, train acc: 0.940, test acc: 0.889\n",
      "Epoch #83, train loss: 0.18861, train acc: 0.940, test acc: 0.911\n",
      "Epoch #84, train loss: 0.18842, train acc: 0.940, test acc: 0.889\n",
      "Epoch #85, train loss: 0.18907, train acc: 0.940, test acc: 0.911\n",
      "Epoch #86, train loss: 0.19004, train acc: 0.940, test acc: 0.911\n",
      "Epoch #87, train loss: 0.18941, train acc: 0.940, test acc: 0.911\n",
      "Epoch #88, train loss: 0.18823, train acc: 0.940, test acc: 0.911\n",
      "Epoch #89, train loss: 0.18685, train acc: 0.940, test acc: 0.911\n",
      "Epoch #90, train loss: 0.18594, train acc: 0.940, test acc: 0.911\n",
      "Epoch #91, train loss: 0.18577, train acc: 0.947, test acc: 0.889\n",
      "Epoch #92, train loss: 0.18554, train acc: 0.940, test acc: 0.911\n",
      "Epoch #93, train loss: 0.18575, train acc: 0.940, test acc: 0.911\n",
      "Epoch #94, train loss: 0.18485, train acc: 0.947, test acc: 0.911\n",
      "Epoch #95, train loss: 0.18632, train acc: 0.940, test acc: 0.911\n",
      "Epoch #96, train loss: 0.18540, train acc: 0.947, test acc: 0.911\n",
      "Epoch #97, train loss: 0.18444, train acc: 0.940, test acc: 0.911\n",
      "Epoch #98, train loss: 0.18398, train acc: 0.947, test acc: 0.911\n",
      "Epoch #99, train loss: 0.18395, train acc: 0.940, test acc: 0.911\n",
      "Epoch #100, train loss: 0.18306, train acc: 0.947, test acc: 0.911\n"
     ]
    }
   ],
   "source": [
    "n_hidden = 4\n",
    "lr = 0.1\n",
    "batch_size = 20\n",
    "\n",
    "model = NeuralNet(n_features, n_hidden, n_classes)\n",
    "\n",
    "losses, accuracies, accuracies_test = [], [], []\n",
    "losses.append(model.loss(X_train, y_train))\n",
    "accuracies.append(model.accuracy(X_train, y_train))\n",
    "accuracies_test.append(model.accuracy(X_test, y_test))\n",
    "\n",
    "print(\"Random init: train loss: %0.5f, train acc: %0.3f, test acc: %0.3f\"\n",
    "      % (losses[-1], accuracies[-1], accuracies_test[-1]))\n",
    "\n",
    "N = X_train.shape[0]\n",
    "for epoch in range(100):\n",
    "    indices = np.random.permutation(N)\n",
    "    \n",
    "    for start_idx in range (0, N, batch_size):\n",
    "        batch_idx = indices[start_idx:min(start_idx + batch_size,N)]\n",
    "        model.train(X_train[batch_idx, :], y_train[batch_idx], .1)\n",
    "\n",
    "    losses.append(model.loss(X_train, y_train))\n",
    "    accuracies.append(model.accuracy(X_train, y_train))\n",
    "    accuracies_test.append(model.accuracy(X_test, y_test))\n",
    "    print(\"Epoch #%d, train loss: %0.5f, train acc: %0.3f, test acc: %0.3f\"\n",
    "          % (epoch + 1, losses[-1], accuracies[-1], accuracies_test[-1]))"
   ]
  },
  {
   "cell_type": "markdown",
   "metadata": {},
   "source": [
    "Le batch a besoin plus de iteration pour converger. Mais le batch est très utilisé grâce ai calcul vectoriel des cartes graphiques"
   ]
  },
  {
   "cell_type": "markdown",
   "metadata": {},
   "source": [
    "## Part2: Digit Dataset"
   ]
  },
  {
   "cell_type": "code",
   "execution_count": 42,
   "metadata": {},
   "outputs": [],
   "source": [
    "%matplotlib inline\n",
    "import matplotlib.pyplot as plt\n",
    "import numpy as np\n",
    "from sklearn.datasets import load_digits\n",
    "\n",
    "digits = load_digits()"
   ]
  },
  {
   "cell_type": "code",
   "execution_count": 43,
   "metadata": {},
   "outputs": [
    {
     "data": {
      "image/png": "[encoded data removed]",
      "text/plain": [
       "<Figure size 216x216 with 1 Axes>"
      ]
     },
     "metadata": {
      "needs_background": "light"
     },
     "output_type": "display_data"
    }
   ],
   "source": [
    "sample_index = 45\n",
    "plt.figure(figsize=(3, 3))\n",
    "plt.imshow(digits.images[sample_index], cmap=plt.cm.gray_r,\n",
    "           interpolation='nearest')\n",
    "plt.title(\"image label: %d\" % digits.target[sample_index]);"
   ]
  },
  {
   "cell_type": "markdown",
   "metadata": {},
   "source": [
    "### Preprocessing\n",
    "\n",
    "- Normalization\n",
    "- Train / test split"
   ]
  },
  {
   "cell_type": "code",
   "execution_count": 44,
   "metadata": {},
   "outputs": [
    {
     "name": "stdout",
     "output_type": "stream",
     "text": [
      "[0.00000000e+00 2.98624754e-01 5.19253438e+00 1.18428291e+01\n",
      " 1.18565815e+01 5.81008513e+00 1.34774067e+00 1.19187950e-01\n",
      " 6.54878847e-03 1.99345121e+00 1.03464309e+01 1.19305828e+01\n",
      " 1.02626064e+01 8.20497708e+00 1.84348396e+00 9.88867060e-02\n",
      " 3.27439424e-03 2.61624100e+00 9.83497053e+00 6.87098887e+00\n",
      " 7.11263916e+00 7.83759005e+00 1.75376555e+00 4.45317616e-02\n",
      " 1.30975769e-03 2.48788474e+00 9.04453176e+00 8.73280943e+00\n",
      " 9.98231827e+00 7.57105435e+00 2.26850033e+00 2.61951539e-03\n",
      " 0.00000000e+00 2.36149312e+00 7.68369352e+00 9.07924034e+00\n",
      " 1.03713163e+01 8.79240341e+00 2.89980354e+00 0.00000000e+00\n",
      " 8.51342502e-03 1.57039948e+00 6.84937787e+00 7.22855272e+00\n",
      " 7.65029470e+00 8.26522593e+00 3.48592010e+00 2.61951539e-02\n",
      " 8.51342502e-03 6.83693517e-01 7.49312377e+00 9.56516045e+00\n",
      " 9.36869679e+00 8.77668631e+00 3.76686313e+00 2.08906352e-01\n",
      " 6.54878847e-04 2.78978389e-01 5.53700065e+00 1.20595940e+01\n",
      " 1.17832351e+01 6.81990832e+00 2.07465619e+00 3.42501637e-01]\n",
      "[1.         0.91047426 4.7374689  4.2596074  4.30740756 5.68243448\n",
      " 3.29715288 1.008902   0.10215271 3.21973438 5.4108079  3.99431828\n",
      " 4.76326914 6.05761692 3.54497651 0.7879529  0.06762714 3.5953762\n",
      " 5.75591791 5.79499053 6.17007499 6.20389862 3.17131632 0.42435037\n",
      " 0.03616687 3.17586741 6.22714405 5.87843364 6.12768087 5.88661918\n",
      " 3.63962    0.05111412 1.         3.51146089 6.35184392 6.26198479\n",
      " 5.92379357 5.86282789 3.54313582 1.         0.13754638 2.96676443\n",
      " 6.52281056 6.46350061 6.27357424 5.66458135 4.32560252 0.31021909\n",
      " 0.22145752 1.71021508 5.62991342 5.23221519 5.31295785 6.03074701\n",
      " 4.9404445  0.9965096  0.02558222 0.94066093 5.07505293 4.37977563\n",
      " 4.96650551 5.92097458 4.05023215 1.78068506]\n"
     ]
    }
   ],
   "source": [
    "from sklearn import preprocessing\n",
    "from sklearn.model_selection import train_test_split\n",
    "\n",
    "data = np.asarray(digits.data, dtype='float32')\n",
    "target = np.asarray(digits.target, dtype='int32')\n",
    "\n",
    "X_train, X_test, y_train, y_test = train_test_split(\n",
    "    data, target, test_size=0.15, random_state=37)\n",
    "\n",
    "# mean = 0 ; standard deviation = 1.0\n",
    "scaler = preprocessing.StandardScaler()\n",
    "X_train = scaler.fit_transform(X_train)\n",
    "X_test = scaler.transform(X_test)\n",
    "\n",
    "print(scaler.mean_)\n",
    "print(scaler.scale_)"
   ]
  },
  {
   "cell_type": "code",
   "execution_count": 45,
   "metadata": {},
   "outputs": [
    {
     "data": {
      "text/plain": [
       "(1527, 64)"
      ]
     },
     "execution_count": 45,
     "metadata": {},
     "output_type": "execute_result"
    }
   ],
   "source": [
    "X_train.shape"
   ]
  },
  {
   "cell_type": "code",
   "execution_count": 46,
   "metadata": {},
   "outputs": [
    {
     "data": {
      "text/plain": [
       "dtype('float32')"
      ]
     },
     "execution_count": 46,
     "metadata": {},
     "output_type": "execute_result"
    }
   ],
   "source": [
    "X_train.dtype"
   ]
  },
  {
   "cell_type": "code",
   "execution_count": 47,
   "metadata": {},
   "outputs": [
    {
     "data": {
      "text/plain": [
       "(270, 64)"
      ]
     },
     "execution_count": 47,
     "metadata": {},
     "output_type": "execute_result"
    }
   ],
   "source": [
    "X_test.shape"
   ]
  },
  {
   "cell_type": "code",
   "execution_count": 48,
   "metadata": {},
   "outputs": [
    {
     "data": {
      "text/plain": [
       "dtype('float32')"
      ]
     },
     "execution_count": 48,
     "metadata": {},
     "output_type": "execute_result"
    }
   ],
   "source": [
    "X_test.dtype"
   ]
  },
  {
   "cell_type": "code",
   "execution_count": 49,
   "metadata": {},
   "outputs": [
    {
     "data": {
      "text/plain": [
       "(1527,)"
      ]
     },
     "execution_count": 49,
     "metadata": {},
     "output_type": "execute_result"
    }
   ],
   "source": [
    "y_train.shape"
   ]
  },
  {
   "cell_type": "code",
   "execution_count": 50,
   "metadata": {},
   "outputs": [
    {
     "data": {
      "text/plain": [
       "dtype('int32')"
      ]
     },
     "execution_count": 50,
     "metadata": {},
     "output_type": "execute_result"
    }
   ],
   "source": [
    "y_train.dtype"
   ]
  },
  {
   "cell_type": "code",
   "execution_count": 51,
   "metadata": {},
   "outputs": [],
   "source": [
    "n_hidden = 10\n",
    "n_classes = 10\n",
    "n_features = 64\n",
    "model = NeuralNet(n_features, n_hidden, n_classes)"
   ]
  },
  {
   "cell_type": "code",
   "execution_count": 52,
   "metadata": {},
   "outputs": [
    {
     "data": {
      "text/plain": [
       "2.3028837281856593"
      ]
     },
     "execution_count": 52,
     "metadata": {},
     "output_type": "execute_result"
    }
   ],
   "source": [
    "model.loss(X_train, y_train)"
   ]
  },
  {
   "cell_type": "code",
   "execution_count": 53,
   "metadata": {},
   "outputs": [
    {
     "data": {
      "text/plain": [
       "0.10870988867059594"
      ]
     },
     "execution_count": 53,
     "metadata": {},
     "output_type": "execute_result"
    }
   ],
   "source": [
    "model.accuracy(X_train, y_train)"
   ]
  },
  {
   "cell_type": "code",
   "execution_count": 53,
   "metadata": {},
   "outputs": [
    {
     "data": {
      "image/png": "[encoded data removed]",
      "text/plain": [
       "<Figure size 720x288 with 2 Axes>"
      ]
     },
     "metadata": {
      "needs_background": "light"
     },
     "output_type": "display_data"
    }
   ],
   "source": [
    "def plot_prediction(model, sample_idx = 0, classes = range(10)):\n",
    "    fig, (ax0, ax1) = plt.subplots(nrows = 1, ncols = 2, figsize = (10, 4))\n",
    "\n",
    "    ax0.imshow(scaler.inverse_transform(X_test[sample_idx]).reshape(8, 8), cmap = plt.cm.gray_r,\n",
    "               interpolation = 'nearest')\n",
    "    ax0.set_title(\"True image label: %d\" % y_test[sample_idx]);\n",
    "\n",
    "\n",
    "    ax1.bar(classes, one_hot(y_test[sample_idx],len(classes)), label = 'true')\n",
    "    ax1.bar(classes, model.forward(X_test[sample_idx]).ravel(), label = 'prediction', color = \"red\")\n",
    "    ax1.set_xticks(classes)\n",
    "    prediction = model.predict(X_test[sample_idx])\n",
    "    ax1.set_title('Output probabilities (prediction: %d)'\n",
    "                  % prediction)\n",
    "    ax1.set_xlabel('Digit class')\n",
    "    ax1.legend()\n",
    "\n",
    "plot_prediction(model, sample_idx=5)"
   ]
  },
  {
   "cell_type": "code",
   "execution_count": 54,
   "metadata": {},
   "outputs": [
    {
     "name": "stdout",
     "output_type": "stream",
     "text": [
      "Random init: train loss: 2.30288, train acc: 0.097, test acc: 0.107\n",
      "Epoch #1, train loss: 0.98903, train acc: 0.792, test acc: 0.756\n",
      "Epoch #2, train loss: 0.43286, train acc: 0.935, test acc: 0.900\n",
      "Epoch #3, train loss: 0.26596, train acc: 0.969, test acc: 0.944\n",
      "Epoch #4, train loss: 0.19871, train acc: 0.980, test acc: 0.956\n",
      "Epoch #5, train loss: 0.16171, train acc: 0.986, test acc: 0.959\n",
      "Epoch #6, train loss: 0.13852, train acc: 0.987, test acc: 0.959\n",
      "Epoch #7, train loss: 0.12192, train acc: 0.990, test acc: 0.963\n",
      "Epoch #8, train loss: 0.10915, train acc: 0.991, test acc: 0.963\n",
      "Epoch #9, train loss: 0.09940, train acc: 0.991, test acc: 0.963\n",
      "Epoch #10, train loss: 0.09118, train acc: 0.992, test acc: 0.967\n",
      "Epoch #11, train loss: 0.08434, train acc: 0.993, test acc: 0.963\n",
      "Epoch #12, train loss: 0.07844, train acc: 0.994, test acc: 0.963\n",
      "Epoch #13, train loss: 0.07332, train acc: 0.995, test acc: 0.967\n",
      "Epoch #14, train loss: 0.06885, train acc: 0.995, test acc: 0.967\n",
      "Epoch #15, train loss: 0.06490, train acc: 0.996, test acc: 0.970\n"
     ]
    }
   ],
   "source": [
    "losses, accuracies, accuracies_test = [], [], []\n",
    "losses.append(model.loss(X_train, y_train))\n",
    "accuracies.append(model.accuracy(X_train, y_train))\n",
    "accuracies_test.append(model.accuracy(X_test, y_test))\n",
    "\n",
    "print(\"Random init: train loss: %0.5f, train acc: %0.3f, test acc: %0.3f\"\n",
    "      % (losses[-1], accuracies[-1], accuracies_test[-1]))\n",
    "\n",
    "for epoch in range(15):\n",
    "    for i, (x, y) in enumerate(zip(X_train, y_train)):\n",
    "        model.train(x, y, 0.1)\n",
    "\n",
    "    losses.append(model.loss(X_train, y_train))\n",
    "    accuracies.append(model.accuracy(X_train, y_train))\n",
    "    accuracies_test.append(model.accuracy(X_test, y_test))\n",
    "    print(\"Epoch #%d, train loss: %0.5f, train acc: %0.3f, test acc: %0.3f\"\n",
    "          % (epoch + 1, losses[-1], accuracies[-1], accuracies_test[-1]))"
   ]
  },
  {
   "cell_type": "code",
   "execution_count": 55,
   "metadata": {},
   "outputs": [
    {
     "data": {
      "image/png": "[encoded data removed]",
      "text/plain": [
       "<Figure size 432x288 with 1 Axes>"
      ]
     },
     "metadata": {
      "needs_background": "light"
     },
     "output_type": "display_data"
    }
   ],
   "source": [
    "plt.plot(losses)\n",
    "plt.title(\"Training loss\");"
   ]
  },
  {
   "cell_type": "code",
   "execution_count": 56,
   "metadata": {},
   "outputs": [
    {
     "data": {
      "image/png": "[encoded data removed]",
      "text/plain": [
       "<Figure size 432x288 with 1 Axes>"
      ]
     },
     "metadata": {
      "needs_background": "light"
     },
     "output_type": "display_data"
    }
   ],
   "source": [
    "plt.plot(accuracies, label = 'train')\n",
    "plt.plot(accuracies_test, label = 'test')\n",
    "plt.ylim(0, 1.1)\n",
    "plt.ylabel(\"accuracy\")\n",
    "plt.legend(loc = 'best');"
   ]
  },
  {
   "cell_type": "code",
   "execution_count": 60,
   "metadata": {},
   "outputs": [
    {
     "data": {
      "image/png": "[encoded data removed]",
      "text/plain": [
       "<Figure size 720x288 with 2 Axes>"
      ]
     },
     "metadata": {
      "needs_background": "light"
     },
     "output_type": "display_data"
    }
   ],
   "source": [
    "plot_prediction(model, sample_idx = 5)"
   ]
  },
  {
   "cell_type": "markdown",
   "metadata": {},
   "source": [
    "- Look at worst prediction errors:\n",
    "\n",
    "    - Use numpy to find test samples for which the model made the worst predictions,\n",
    "    - Use the `plot_prediction` to look at the model predictions on those,\n",
    "    - Would you have done any better?"
   ]
  },
  {
   "cell_type": "code",
   "execution_count": 58,
   "metadata": {},
   "outputs": [
    {
     "data": {
      "text/plain": [
       "(array([ 99, 107, 143, 170, 173, 212, 219, 244]),)"
      ]
     },
     "execution_count": 58,
     "metadata": {},
     "output_type": "execute_result"
    }
   ],
   "source": [
    "np.where(model.predict(X_test) != y_test)"
   ]
  },
  {
   "cell_type": "code",
   "execution_count": 61,
   "metadata": {},
   "outputs": [
    {
     "data": {
      "image/png": "[encoded data removed]",
      "text/plain": [
       "<Figure size 720x288 with 2 Axes>"
      ]
     },
     "metadata": {
      "needs_background": "light"
     },
     "output_type": "display_data"
    }
   ],
   "source": [
    "plot_prediction(model, sample_idx = 99)"
   ]
  },
  {
   "cell_type": "markdown",
   "metadata": {},
   "source": [
    "### Back to Keras\n",
    "\n",
    "- You can now use keras to implement and train the same network architecture"
   ]
  },
  {
   "cell_type": "code",
   "execution_count": 63,
   "metadata": {},
   "outputs": [
    {
     "name": "stdout",
     "output_type": "stream",
     "text": [
      "Epoch 1/15\n",
      "96/96 [==============================] - 0s 863us/step - loss: 0.6883 - accuracy: 0.7996\n",
      "Epoch 2/15\n",
      "96/96 [==============================] - 0s 841us/step - loss: 0.2122 - accuracy: 0.9417\n",
      "Epoch 3/15\n",
      "96/96 [==============================] - 0s 734us/step - loss: 0.1510 - accuracy: 0.9555\n",
      "Epoch 4/15\n",
      "96/96 [==============================] - 0s 794us/step - loss: 0.0944 - accuracy: 0.9771\n",
      "Epoch 5/15\n",
      "96/96 [==============================] - 0s 675us/step - loss: 0.1129 - accuracy: 0.9640\n",
      "Epoch 6/15\n",
      "96/96 [==============================] - 0s 714us/step - loss: 0.0874 - accuracy: 0.9699\n",
      "Epoch 7/15\n",
      "96/96 [==============================] - 0s 742us/step - loss: 0.0701 - accuracy: 0.9836\n",
      "Epoch 8/15\n",
      "96/96 [==============================] - 0s 703us/step - loss: 0.0451 - accuracy: 0.9921\n",
      "Epoch 9/15\n",
      "96/96 [==============================] - 0s 724us/step - loss: 0.0331 - accuracy: 0.9941\n",
      "Epoch 10/15\n",
      "96/96 [==============================] - 0s 714us/step - loss: 0.0233 - accuracy: 0.9974\n",
      "Epoch 11/15\n",
      "96/96 [==============================] - 0s 712us/step - loss: 0.0193 - accuracy: 0.9967\n",
      "Epoch 12/15\n",
      "96/96 [==============================] - 0s 712us/step - loss: 0.0160 - accuracy: 0.9974\n",
      "Epoch 13/15\n",
      "96/96 [==============================] - 0s 710us/step - loss: 0.0139 - accuracy: 0.9980\n",
      "Epoch 14/15\n",
      "96/96 [==============================] - 0s 690us/step - loss: 0.0126 - accuracy: 0.9987\n",
      "Epoch 15/15\n",
      "96/96 [==============================] - 0s 690us/step - loss: 0.0115 - accuracy: 0.9987\n"
     ]
    },
    {
     "data": {
      "text/plain": [
       "<tensorflow.python.keras.callbacks.History at 0x7f5a846ead60>"
      ]
     },
     "execution_count": 63,
     "metadata": {},
     "output_type": "execute_result"
    }
   ],
   "source": [
    "from tensorflow.keras.models import Sequential\n",
    "from tensorflow.keras.layers import Dense\n",
    "from tensorflow.keras.optimizers import SGD\n",
    "from tensorflow.keras.utils import to_categorical\n",
    "\n",
    "n_features = 8 * 8\n",
    "n_classes = 10\n",
    "n_hidden = 10\n",
    "\n",
    "keras_model = Sequential()\n",
    "#couche dense: Tous les input sont entierement connectés à tous les output\n",
    "keras_model.add(Dense(n_hidden, input_dim = n_features, activation = 'sigmoid'))\n",
    "keras_model.add(Dense(n_classes, activation = 'softmax'))\n",
    "\n",
    "#optimizer: descent de gradient\n",
    "#Compile : Calculer la dérivé et définir la rétropropagation du gradient\n",
    "keras_model.compile(optimizer = SGD(learning_rate = 3),\n",
    "                    loss='categorical_crossentropy', metrics=['accuracy'])\n",
    "\n",
    "keras_model.fit(X_train, to_categorical(y_train), epochs = 15, batch_size = 16) "
   ]
  },
  {
   "cell_type": "markdown",
   "metadata": {},
   "source": [
    "- Using keras, add a second hidden Layer to keras_model model and learn the hyper parameters."
   ]
  },
  {
   "cell_type": "code",
   "execution_count": 67,
   "metadata": {},
   "outputs": [
    {
     "name": "stdout",
     "output_type": "stream",
     "text": [
      "Epoch 1/50\n",
      "96/96 [==============================] - 0s 636us/step - loss: 1.2995 - accuracy: 0.5141\n",
      "Epoch 2/50\n",
      "96/96 [==============================] - 0s 777us/step - loss: 0.4566 - accuracy: 0.8585\n",
      "Epoch 3/50\n",
      "96/96 [==============================] - 0s 775us/step - loss: 0.3157 - accuracy: 0.9103\n",
      "Epoch 4/50\n",
      "96/96 [==============================] - 0s 761us/step - loss: 0.2345 - accuracy: 0.9332\n",
      "Epoch 5/50\n",
      "96/96 [==============================] - 0s 807us/step - loss: 0.2366 - accuracy: 0.9312\n",
      "Epoch 6/50\n",
      "96/96 [==============================] - 0s 860us/step - loss: 0.2051 - accuracy: 0.9443\n",
      "Epoch 7/50\n",
      "96/96 [==============================] - 0s 835us/step - loss: 0.1847 - accuracy: 0.9476\n",
      "Epoch 8/50\n",
      "96/96 [==============================] - 0s 827us/step - loss: 0.1305 - accuracy: 0.9646\n",
      "Epoch 9/50\n",
      "96/96 [==============================] - 0s 836us/step - loss: 0.1457 - accuracy: 0.9555\n",
      "Epoch 10/50\n",
      "96/96 [==============================] - 0s 790us/step - loss: 0.1381 - accuracy: 0.9581\n",
      "Epoch 11/50\n",
      "96/96 [==============================] - 0s 742us/step - loss: 0.0957 - accuracy: 0.9731\n",
      "Epoch 12/50\n",
      "96/96 [==============================] - 0s 804us/step - loss: 0.1237 - accuracy: 0.9640\n",
      "Epoch 13/50\n",
      "96/96 [==============================] - 0s 770us/step - loss: 0.1336 - accuracy: 0.9620\n",
      "Epoch 14/50\n",
      "96/96 [==============================] - 0s 773us/step - loss: 0.1172 - accuracy: 0.9679\n",
      "Epoch 15/50\n",
      "96/96 [==============================] - 0s 743us/step - loss: 0.0890 - accuracy: 0.9784\n",
      "Epoch 16/50\n",
      "96/96 [==============================] - 0s 738us/step - loss: 0.0690 - accuracy: 0.9797\n",
      "Epoch 17/50\n",
      "96/96 [==============================] - 0s 674us/step - loss: 0.0681 - accuracy: 0.9797\n",
      "Epoch 18/50\n",
      "96/96 [==============================] - 0s 688us/step - loss: 0.0806 - accuracy: 0.9790\n",
      "Epoch 19/50\n",
      "96/96 [==============================] - 0s 680us/step - loss: 0.1318 - accuracy: 0.9640\n",
      "Epoch 20/50\n",
      "96/96 [==============================] - 0s 684us/step - loss: 0.0924 - accuracy: 0.9731\n",
      "Epoch 21/50\n",
      "96/96 [==============================] - 0s 689us/step - loss: 0.1545 - accuracy: 0.9542\n",
      "Epoch 22/50\n",
      "96/96 [==============================] - 0s 852us/step - loss: 0.1122 - accuracy: 0.9692\n",
      "Epoch 23/50\n",
      "96/96 [==============================] - 0s 872us/step - loss: 0.1138 - accuracy: 0.9646\n",
      "Epoch 24/50\n",
      "96/96 [==============================] - 0s 863us/step - loss: 0.1087 - accuracy: 0.9640\n",
      "Epoch 25/50\n",
      "96/96 [==============================] - 0s 787us/step - loss: 0.0871 - accuracy: 0.9751\n",
      "Epoch 26/50\n",
      "96/96 [==============================] - 0s 704us/step - loss: 0.0695 - accuracy: 0.9751\n",
      "Epoch 27/50\n",
      "96/96 [==============================] - 0s 690us/step - loss: 0.0734 - accuracy: 0.9804\n",
      "Epoch 28/50\n",
      "96/96 [==============================] - 0s 770us/step - loss: 0.0852 - accuracy: 0.9771\n",
      "Epoch 29/50\n",
      "96/96 [==============================] - 0s 733us/step - loss: 0.0635 - accuracy: 0.9804\n",
      "Epoch 30/50\n",
      "96/96 [==============================] - 0s 727us/step - loss: 0.0486 - accuracy: 0.98890s - loss: 0.0426 - accuracy: 0.99\n",
      "Epoch 31/50\n",
      "96/96 [==============================] - 0s 729us/step - loss: 0.0321 - accuracy: 0.9935\n",
      "Epoch 32/50\n",
      "96/96 [==============================] - 0s 710us/step - loss: 0.0254 - accuracy: 0.9948\n",
      "Epoch 33/50\n",
      "96/96 [==============================] - 0s 679us/step - loss: 0.0226 - accuracy: 0.9954\n",
      "Epoch 34/50\n",
      "96/96 [==============================] - 0s 766us/step - loss: 0.0212 - accuracy: 0.9961\n",
      "Epoch 35/50\n",
      "96/96 [==============================] - 0s 831us/step - loss: 0.0205 - accuracy: 0.9961\n",
      "Epoch 36/50\n",
      "96/96 [==============================] - 0s 729us/step - loss: 0.0185 - accuracy: 0.9961\n",
      "Epoch 37/50\n",
      "96/96 [==============================] - 0s 736us/step - loss: 0.0182 - accuracy: 0.9961\n",
      "Epoch 38/50\n",
      "96/96 [==============================] - 0s 708us/step - loss: 0.0177 - accuracy: 0.9961\n",
      "Epoch 39/50\n",
      "96/96 [==============================] - 0s 716us/step - loss: 0.0169 - accuracy: 0.9961\n",
      "Epoch 40/50\n",
      "96/96 [==============================] - 0s 718us/step - loss: 0.0153 - accuracy: 0.9961\n",
      "Epoch 41/50\n",
      "96/96 [==============================] - 0s 735us/step - loss: 0.0153 - accuracy: 0.9974\n",
      "Epoch 42/50\n",
      "96/96 [==============================] - 0s 725us/step - loss: 0.0148 - accuracy: 0.9967\n",
      "Epoch 43/50\n",
      "96/96 [==============================] - 0s 707us/step - loss: 0.0156 - accuracy: 0.9961\n",
      "Epoch 44/50\n",
      "96/96 [==============================] - 0s 712us/step - loss: 0.0136 - accuracy: 0.9974\n",
      "Epoch 45/50\n",
      "96/96 [==============================] - 0s 814us/step - loss: 0.0135 - accuracy: 0.9967\n",
      "Epoch 46/50\n",
      "96/96 [==============================] - 0s 845us/step - loss: 0.0134 - accuracy: 0.9974\n",
      "Epoch 47/50\n",
      "96/96 [==============================] - 0s 793us/step - loss: 0.0131 - accuracy: 0.9974\n",
      "Epoch 48/50\n",
      "96/96 [==============================] - 0s 823us/step - loss: 0.0123 - accuracy: 0.9974\n",
      "Epoch 49/50\n",
      "96/96 [==============================] - 0s 798us/step - loss: 0.0125 - accuracy: 0.9967\n",
      "Epoch 50/50\n",
      "96/96 [==============================] - 0s 717us/step - loss: 0.0120 - accuracy: 0.9967\n"
     ]
    },
    {
     "data": {
      "text/plain": [
       "<tensorflow.python.keras.callbacks.History at 0x7f5a870aa9d0>"
      ]
     },
     "execution_count": 67,
     "metadata": {},
     "output_type": "execute_result"
    }
   ],
   "source": [
    "keras_model = Sequential()\n",
    "#le input_dim a seulement besoin d'être préciser lors de la 1er couche\n",
    "keras_model.add(Dense(n_hidden, input_dim = n_features, activation = 'sigmoid'))\n",
    "keras_model.add(Dense(n_hidden, activation = 'sigmoid'))\n",
    "keras_model.add(Dense(n_classes, activation = 'softmax'))\n",
    "\n",
    "keras_model.compile(optimizer = SGD(learning_rate = 3),\n",
    "                    loss='categorical_crossentropy', metrics=['accuracy'])\n",
    "\n",
    "keras_model.fit(X_train, to_categorical(y_train), epochs = 50, batch_size = 16) "
   ]
  },
  {
   "cell_type": "markdown",
   "metadata": {},
   "source": [
    "- Is the model overfitting or underfitting? (ensure that the model has fully converged by increasing the number of epochs to 50 or more if necessary)."
   ]
  },
  {
   "cell_type": "markdown",
   "metadata": {},
   "source": [
    "On commence à overfitting"
   ]
  }
 ],
 "metadata": {
  "kernelspec": {
   "display_name": "Python 3",
   "language": "python",
   "name": "python3"
  },
  "language_info": {
   "codemirror_mode": {
    "name": "ipython",
    "version": 3
   },
   "file_extension": ".py",
   "mimetype": "text/x-python",
   "name": "python",
   "nbconvert_exporter": "python",
   "pygments_lexer": "ipython3",
   "version": "3.8.10"
  }
 },
 "nbformat": 4,
 "nbformat_minor": 2
}
